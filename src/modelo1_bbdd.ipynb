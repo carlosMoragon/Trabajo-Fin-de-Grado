{
 "cells": [
  {
   "cell_type": "markdown",
   "metadata": {},
   "source": [
    "Modelo 1: Predicción a partir de datos de la base de datos."
   ]
  },
  {
   "cell_type": "code",
   "execution_count": 1,
   "metadata": {},
   "outputs": [],
   "source": [
    "import zipfile\n",
    "import pandas as pd\n",
    "import matplotlib.pyplot as plt"
   ]
  },
  {
   "cell_type": "code",
   "execution_count": 2,
   "metadata": {},
   "outputs": [
    {
     "name": "stderr",
     "output_type": "stream",
     "text": [
      "C:\\Users\\cmora\\AppData\\Local\\Temp\\ipykernel_50224\\496839114.py:7: DtypeWarning: Columns (1,13) have mixed types. Specify dtype option on import or set low_memory=False.\n",
      "  dataset = pd.read_csv(archivo_tsv, sep='\\t')\n"
     ]
    }
   ],
   "source": [
    "# Cargamos el dataset, el cual está comprimido en un .zip\n",
    "ruta_zip = '../data/RepoRT_classified_CCinformation.zip'\n",
    "nombre_tsv = 'RepoRT_classified_CCinformation.tsv'\n",
    "\n",
    "with zipfile.ZipFile(ruta_zip, 'r') as archivo_zip:\n",
    "    with archivo_zip.open(nombre_tsv) as archivo_tsv:\n",
    "        dataset = pd.read_csv(archivo_tsv, sep='\\t')\n"
   ]
  },
  {
   "cell_type": "code",
   "execution_count": 3,
   "metadata": {},
   "outputs": [],
   "source": [
    "# Ponemos todos los datos de las columnas del mismo tipo\n",
    "dataset['name'] = dataset['name'].astype('str')\n",
    "dataset['comment'] = dataset['comment'].astype('str')"
   ]
  },
  {
   "cell_type": "markdown",
   "metadata": {},
   "source": [
    "Estructura de los datos"
   ]
  },
  {
   "cell_type": "code",
   "execution_count": 22,
   "metadata": {},
   "outputs": [],
   "source": [
    "class Column:\n",
    "    def __init__(self, name, usp_code, length, id, particle_size, temperature, flowrate, t0):\n",
    "        self.name = name\n",
    "        self.usp_code = usp_code\n",
    "        self.length = length\n",
    "        self.id = id\n",
    "        self.particle_size = particle_size\n",
    "        self.temperature = temperature\n",
    "        self.flowrate = flowrate\n",
    "        self.t0 = t0\n",
    "    \n",
    "    def __eq__(self, value):\n",
    "        if not isinstance(value, Column):\n",
    "            return False\n",
    "        return (\n",
    "            self.name == value.name and\n",
    "            self.usp_code == value.usp_code and\n",
    "            self.length == value.length and\n",
    "            self.id == value.id and\n",
    "            self.particle_size == value.particle_size and\n",
    "            self.temperature == value.temperature and\n",
    "            self.flowrate == value.flowrate and\n",
    "            self.t0 == value.t0\n",
    "        )\n",
    "    \n",
    "    def __hash__(self):\n",
    "        return hash((\n",
    "            self.name,\n",
    "            self.usp_code,\n",
    "            self.length,\n",
    "            self.id,\n",
    "            self.particle_size,\n",
    "            self.temperature,\n",
    "            self.flowrate,\n",
    "            self.t0\n",
    "        ))"
   ]
  },
  {
   "cell_type": "code",
   "execution_count": 23,
   "metadata": {},
   "outputs": [],
   "source": [
    "class Config:\n",
    "    def __init__(self, eluyente1, eluyente2, columna:Column):\n",
    "        self.eluyente1 = eluyente1\n",
    "        self.eluyente2 = eluyente2\n",
    "        self.columna = columna\n",
    "\n",
    "    def __eq__(self, value):\n",
    "        if not isinstance(value, Config):\n",
    "            return False\n",
    "        return (\n",
    "            self.eluyente1 == value.eluyente1 and\n",
    "            self.eluyente2 == value.eluyente2 and\n",
    "            self.columna == value.columna\n",
    "        )\n",
    "    \n",
    "    def __hash__(self):\n",
    "        return hash((self.eluyente1, self.eluyente2, self.columna))"
   ]
  },
  {
   "cell_type": "markdown",
   "metadata": {},
   "source": [
    "Filtramos el dataset y nos quedamos con los datos que nos importan"
   ]
  },
  {
   "cell_type": "code",
   "execution_count": 24,
   "metadata": {},
   "outputs": [
    {
     "name": "stdout",
     "output_type": "stream",
     "text": [
      "Index(['column.name', 'column.usp.code_0', 'column.usp.code_L1',\n",
      "       'column.usp.code_L10', 'column.usp.code_L109', 'column.usp.code_L11',\n",
      "       'column.usp.code_L114', 'column.usp.code_L122', 'column.usp.code_L3',\n",
      "       'classyfire.class', 'rt', 'alternative_parents', 'column.usp.code_L43',\n",
      "       'column.usp.code_L68', 'column.usp.code_L7', 'column.length',\n",
      "       'column.id', 'column.particle.size', 'column.temperature',\n",
      "       'column.flowrate', 'column.t0', 'eluent.1.h2o 0', 'eluent.1.meoh 0',\n",
      "       'eluent.1.acn 0', 'eluent.1.iproh 0', 'eluent.1.acetone 0',\n",
      "       'eluent.1.hex 0', 'eluent.1.chcl3 0', 'eluent.1.ch2cl2 0',\n",
      "       'eluent.1.hept 0', 'eluent.1.formic 0', 'eluent.1.acetic 0',\n",
      "       'eluent.1.trifluoroacetic 0', 'eluent.1.phosphor 0', 'eluent.1.nh4ac 0',\n",
      "       'eluent.1.nh4form 0', 'eluent.1.nh4carb 0', 'eluent.1.nh4bicarb 0',\n",
      "       'eluent.1.nh4f 0', 'eluent.1.nh4oh 0', 'eluent.1.trieth 0',\n",
      "       'eluent.1.triprop 0', 'eluent.1.tribut 0', 'eluent.1.nndimethylhex 0',\n",
      "       'eluent.1.medronic 0', 'eluent.1.pH 0', 'eluent.2.h2o 0',\n",
      "       'eluent.2.meoh 0', 'eluent.2.acn 0', 'eluent.2.iproh 0',\n",
      "       'eluent.2.acetone 0', 'eluent.2.hex 0', 'eluent.2.chcl3 0',\n",
      "       'eluent.2.ch2cl2 0', 'eluent.2.hept 0', 'eluent.2.formic 0',\n",
      "       'eluent.2.acetic 0', 'eluent.2.trifluoroacetic 0',\n",
      "       'eluent.2.phosphor 0', 'eluent.2.nh4ac 0', 'eluent.2.nh4form 0',\n",
      "       'eluent.2.nh4carb 0', 'eluent.2.nh4bicarb 0', 'eluent.2.nh4f 0',\n",
      "       'eluent.2.nh4oh 0', 'eluent.2.trieth 0', 'eluent.2.triprop 0',\n",
      "       'eluent.2.tribut 0', 'eluent.2.nndimethylhex 0', 'eluent.2.medronic 0',\n",
      "       'eluent.2.pH 0', 't 0', 't 1', 't 2', 't 3', 't 4', 't 5', 't 6', 't 7',\n",
      "       't 8', 't 9', 't 10', 't 11', 't 12', 't 13', 't 14', 't 15', 't 16',\n",
      "       't 17'],\n",
      "      dtype='object')\n"
     ]
    }
   ],
   "source": [
    "eluent_columns = [\n",
    "    f\"eluent.{i}.{compound} 0\"\n",
    "    for i in [1, 2]  # Para eluent.1 y eluent.2\n",
    "    for compound in [\n",
    "        \"h2o\", \"meoh\", \"acn\", \"iproh\", \"acetone\", \"hex\", \"chcl3\", \"ch2cl2\", \"hept\",\n",
    "        \"formic\", \"acetic\", \"trifluoroacetic\", \"phosphor\", \"nh4ac\", \"nh4form\",\n",
    "        \"nh4carb\", \"nh4bicarb\", \"nh4f\", \"nh4oh\", \"trieth\", \"triprop\", \"tribut\",\n",
    "        \"nndimethylhex\", \"medronic\", \"pH\"\n",
    "    ]\n",
    "]\n",
    "\n",
    "# Lista original de columnas\n",
    "columns_to_extract = [\n",
    "    \"column.name\", \"column.usp.code_0\", \"column.usp.code_L1\", \"column.usp.code_L10\",\n",
    "    \"column.usp.code_L109\", \"column.usp.code_L11\", \"column.usp.code_L114\", \"column.usp.code_L122\",\n",
    "    \"column.usp.code_L3\", \"classyfire.class\", \"rt\", \"alternative_parents\",\n",
    "    \"column.usp.code_L43\", \"column.usp.code_L68\", \"column.usp.code_L7\", \"column.length\",\n",
    "    \"column.id\", \"column.particle.size\", \"column.temperature\", \"column.flowrate\", \"column.t0\"\n",
    "]\n",
    "\n",
    "# Generar nombres de columnas para \"t 0\", ..., \"t 17\"\n",
    "t_columns = [f\"t {i}\" for i in range(18)]\n",
    "\n",
    "# Combinar todas las listas\n",
    "columns_to_extract += eluent_columns + t_columns\n",
    "\n",
    "data = dataset[columns_to_extract]\n",
    "print(data.columns)"
   ]
  },
  {
   "cell_type": "code",
   "execution_count": 29,
   "metadata": {},
   "outputs": [],
   "source": [
    "def create_config_objects(dataset):\n",
    "    def get_uspcode(row):\n",
    "        usp_columns = [\n",
    "            'column.usp.code_0', 'column.usp.code_L1', 'column.usp.code_L10',\n",
    "            'column.usp.code_L109', 'column.usp.code_L11', 'column.usp.code_L114',\n",
    "            'column.usp.code_L122', 'column.usp.code_L3', 'column.usp.code_L43',\n",
    "            'column.usp.code_L68', 'column.usp.code_L7'\n",
    "        ]\n",
    "        # Busca la primera columna con valor 1 y devuelve su nombre\n",
    "        return next((col for col in usp_columns if row[col] == 1), None)\n",
    "\n",
    "    config_objects = set()\n",
    "\n",
    "    for _, row in dataset.iterrows():\n",
    "        # Crear el objeto Column\n",
    "        columna = Column(\n",
    "            name=row['column.name'],\n",
    "            usp_code=get_uspcode(row),  # Llama a la función para determinar el USP Code\n",
    "            length=row['column.length'],\n",
    "            id=row['column.id'],\n",
    "            particle_size=row['column.particle.size'],\n",
    "            temperature=row['column.temperature'],\n",
    "            flowrate=row['column.flowrate'],\n",
    "            t0=row['column.t0']\n",
    "        )\n",
    "        \n",
    "        # Crear el objeto Config\n",
    "        \n",
    "        eluyente1 = next((key for key in dataset.columns if key.startswith('eluent.1.') and row[key] == 100), None)\n",
    "        eluyente2 = next((key for key in dataset.columns if key.startswith('eluent.2.') and row[key] == 100), None)\n",
    "\n",
    "        config = Config(eluyente1=eluyente1, eluyente2=eluyente2, columna=columna)\n",
    "        config_objects.add(config)\n",
    "\n",
    "    return config_objects\n"
   ]
  },
  {
   "cell_type": "code",
   "execution_count": 30,
   "metadata": {},
   "outputs": [
    {
     "name": "stdout",
     "output_type": "stream",
     "text": [
      "136\n"
     ]
    }
   ],
   "source": [
    "config_objects = create_config_objects(data)\n",
    "\n",
    "print(len(config_objects))\n"
   ]
  },
  {
   "cell_type": "markdown",
   "metadata": {},
   "source": [
    "De 164346 registros de configuraciones hay 136 que son distintas tomando en cuenta que definimos configuración como:\n",
    "\n",
    "* Eluyentes utilizados (eluyente 1 y eluyente 2).\n",
    "\n",
    "* Columna cromatográfica (Todos los parámetros de la columna cromatográfica son los mismos)."
   ]
  },
  {
   "cell_type": "markdown",
   "metadata": {},
   "source": [
    "Funciones de scoring"
   ]
  },
  {
   "cell_type": "markdown",
   "metadata": {},
   "source": [
    "Factor de selectividad.\n",
    "\n",
    "$$\n",
    "\\alpha = \\frac{t_{R,A} - t_0}{t_{R,B} - t_0}\n",
    "$$\n",
    "\n",
    "* RTa: Tiempo de retención del metabolito A.\n",
    "* RTb: Tiempo de retención del metabolito B.\n",
    "* 𝑡0: Tiempo de retención del soluto no retenido (tiempo muerto).\n",
    "$$\n",
    "\\text{Tiempo muerto} = \\frac{\\text{longitud de la columna}}{\\text{Flowrate}}\n",
    "$$"
   ]
  },
  {
   "cell_type": "code",
   "execution_count": null,
   "metadata": {},
   "outputs": [],
   "source": [
    "def alpha(data):\n",
    "    return (rta - t0) / (rtb - t0)"
   ]
  },
  {
   "cell_type": "code",
   "execution_count": 40,
   "metadata": {},
   "outputs": [],
   "source": [
    "def filter_by_config(data_family, config):\n",
    "    \n",
    "    usp_columns = [\n",
    "        'column.usp.code_0', 'column.usp.code_L1', 'column.usp.code_L10',\n",
    "        'column.usp.code_L109', 'column.usp.code_L11', 'column.usp.code_L114',\n",
    "        'column.usp.code_L122', 'column.usp.code_L3', 'column.usp.code_L43',\n",
    "        'column.usp.code_L68', 'column.usp.code_L7'\n",
    "    ]\n",
    "    # Crear una lista de condiciones para las columnas usp_code\n",
    "    usp_conditions = [\n",
    "        (data_family[usp_col] == 1) if usp_col == config.columna.usp_code else (data_family[usp_col] == 0)\n",
    "        for usp_col in usp_columns\n",
    "    ]\n",
    "\n",
    "    # Combinar todas las condiciones usando '&'\n",
    "    combined_usp_condition = usp_conditions[0]\n",
    "    for condition in usp_conditions[1:]:\n",
    "        combined_usp_condition &= condition\n",
    "\n",
    "    # Crear la condición general\n",
    "    combined_condition = (\n",
    "        (data_family['column.name'] == config.columna.name) &\n",
    "        (data_family['column.length'] == config.columna.length) &\n",
    "        (data_family['column.id'] == config.columna.id) &\n",
    "        (data_family['column.particle.size'] == config.columna.particle_size) &\n",
    "        (data_family['column.temperature'] == config.columna.temperature) &\n",
    "        (data_family['column.flowrate'] == config.columna.flowrate) &\n",
    "        (data_family['column.t0'] == config.columna.t0) &\n",
    "        combined_usp_condition  # Condiciones combinadas de usp_code\n",
    "    )\n",
    "\n",
    "    # Filtrar los datos que cumplen la condición\n",
    "    return data_family[combined_condition]\n"
   ]
  },
  {
   "cell_type": "code",
   "execution_count": null,
   "metadata": {},
   "outputs": [
    {
     "data": {
      "text/plain": [
       "'\\n    # Calcular alpha en pares siguiendo el orden\\n    alpha(data_family.drop(columns=[\"alternative_parents\", \"classyfire.class\"]))\\n    \\n    # Calcular la función de score\\n    score = fscore()\\n    \\n    return score\\n'"
      ]
     },
     "execution_count": 38,
     "metadata": {},
     "output_type": "execute_result"
    }
   ],
   "source": [
    "def main(data, family, fscore = None):\n",
    "\n",
    "    # Obtención de un conjunto con los posibles padres\n",
    "    alternative_parents = [set(item.split(\",\")) for item in data[\"alternative_parents\"]]\n",
    "    class_attr = data[\"classyfire.class\"]\n",
    "    families = [parent_set.union({cls}) for parent_set, cls in zip(alternative_parents, class_attr)]\n",
    "\n",
    "    data_family = data[[family in conjunto for conjunto in families]]\n",
    "\n",
    "    print(data_family)\n",
    "\n",
    "    configs = create_config_objects(data_family)\n",
    "\n",
    "    print(len(configs))\n",
    "\n",
    "    # Para todos los datos de una misma configuración\n",
    "    datasets_by_config = [\n",
    "        filter_by_config(data_family, config)\n",
    "        for config in configs\n",
    "    ]\n",
    "    \n",
    "    print(f\"Cantidad de datasets generados: {len(datasets_by_config)}\")\n",
    "\n",
    "    # Ordenar por RT en una lista\n",
    "    \n",
    "\n",
    "'''\n",
    "    # Calcular alpha en pares siguiendo el orden\n",
    "    alpha(data_family.drop(columns=[\"alternative_parents\", \"classyfire.class\"]))\n",
    "    \n",
    "    # Calcular la función de score\n",
    "    score = fscore()\n",
    "    \n",
    "    return score\n",
    "'''"
   ]
  },
  {
   "cell_type": "code",
   "execution_count": 41,
   "metadata": {},
   "outputs": [
    {
     "name": "stdout",
     "output_type": "stream",
     "text": [
      "                        column.name  column.usp.code_0  column.usp.code_L1  \\\n",
      "0        Waters ACQUITY UPLC HSS T3                0.0                 1.0   \n",
      "1        Waters ACQUITY UPLC HSS T3                0.0                 1.0   \n",
      "2        Waters ACQUITY UPLC HSS T3                0.0                 1.0   \n",
      "10       Waters ACQUITY UPLC HSS T3                0.0                 1.0   \n",
      "14       Waters ACQUITY UPLC HSS T3                0.0                 1.0   \n",
      "...                             ...                ...                 ...   \n",
      "163723  Waters ACQUITY UPLC BEH C18                0.0                 1.0   \n",
      "163931  Waters ACQUITY UPLC BEH C18                0.0                 1.0   \n",
      "163933  Waters ACQUITY UPLC BEH C18                0.0                 1.0   \n",
      "164081  Waters ACQUITY UPLC BEH C18                0.0                 1.0   \n",
      "164082  Waters ACQUITY UPLC BEH C18                0.0                 1.0   \n",
      "\n",
      "        column.usp.code_L10  column.usp.code_L109  column.usp.code_L11  \\\n",
      "0                       0.0                   0.0                  0.0   \n",
      "1                       0.0                   0.0                  0.0   \n",
      "2                       0.0                   0.0                  0.0   \n",
      "10                      0.0                   0.0                  0.0   \n",
      "14                      0.0                   0.0                  0.0   \n",
      "...                     ...                   ...                  ...   \n",
      "163723                  0.0                   0.0                  0.0   \n",
      "163931                  0.0                   0.0                  0.0   \n",
      "163933                  0.0                   0.0                  0.0   \n",
      "164081                  0.0                   0.0                  0.0   \n",
      "164082                  0.0                   0.0                  0.0   \n",
      "\n",
      "        column.usp.code_L114  column.usp.code_L122  column.usp.code_L3  \\\n",
      "0                        0.0                   0.0                 0.0   \n",
      "1                        0.0                   0.0                 0.0   \n",
      "2                        0.0                   0.0                 0.0   \n",
      "10                       0.0                   0.0                 0.0   \n",
      "14                       0.0                   0.0                 0.0   \n",
      "...                      ...                   ...                 ...   \n",
      "163723                   0.0                   0.0                 0.0   \n",
      "163931                   0.0                   0.0                 0.0   \n",
      "163933                   0.0                   0.0                 0.0   \n",
      "164081                   0.0                   0.0                 0.0   \n",
      "164082                   0.0                   0.0                 0.0   \n",
      "\n",
      "                      classyfire.class  ...  t 8  t 9  t 10  t 11  t 12  t 13  \\\n",
      "0       Flavonoids (CHEMONTID:0000334)  ...  0.0  0.0   0.0   0.0   0.0   0.0   \n",
      "1       Flavonoids (CHEMONTID:0000334)  ...  0.0  0.0   0.0   0.0   0.0   0.0   \n",
      "2       Flavonoids (CHEMONTID:0000334)  ...  0.0  0.0   0.0   0.0   0.0   0.0   \n",
      "10      Flavonoids (CHEMONTID:0000334)  ...  0.0  0.0   0.0   0.0   0.0   0.0   \n",
      "14      Flavonoids (CHEMONTID:0000334)  ...  0.0  0.0   0.0   0.0   0.0   0.0   \n",
      "...                                ...  ...  ...  ...   ...   ...   ...   ...   \n",
      "163723  Flavonoids (CHEMONTID:0000334)  ...  0.0  0.0   0.0   0.0   0.0   0.0   \n",
      "163931  Flavonoids (CHEMONTID:0000334)  ...  0.0  0.0   0.0   0.0   0.0   0.0   \n",
      "163933  Flavonoids (CHEMONTID:0000334)  ...  0.0  0.0   0.0   0.0   0.0   0.0   \n",
      "164081  Flavonoids (CHEMONTID:0000334)  ...  0.0  0.0   0.0   0.0   0.0   0.0   \n",
      "164082  Flavonoids (CHEMONTID:0000334)  ...  0.0  0.0   0.0   0.0   0.0   0.0   \n",
      "\n",
      "        t 14  t 15  t 16  t 17  \n",
      "0        0.0   0.0   0.0   0.0  \n",
      "1        0.0   0.0   0.0   0.0  \n",
      "2        0.0   0.0   0.0   0.0  \n",
      "10       0.0   0.0   0.0   0.0  \n",
      "14       0.0   0.0   0.0   0.0  \n",
      "...      ...   ...   ...   ...  \n",
      "163723   0.0   0.0   0.0   0.0  \n",
      "163931   0.0   0.0   0.0   0.0  \n",
      "163933   0.0   0.0   0.0   0.0  \n",
      "164081   0.0   0.0   0.0   0.0  \n",
      "164082   0.0   0.0   0.0   0.0  \n",
      "\n",
      "[1610 rows x 89 columns]\n",
      "41\n",
      "Cantidad de datasets generados: 41\n"
     ]
    }
   ],
   "source": [
    "main(data, \"Flavonoids (CHEMONTID:0000334)\")"
   ]
  }
 ],
 "metadata": {
  "kernelspec": {
   "display_name": "Python 3",
   "language": "python",
   "name": "python3"
  },
  "language_info": {
   "codemirror_mode": {
    "name": "ipython",
    "version": 3
   },
   "file_extension": ".py",
   "mimetype": "text/x-python",
   "name": "python",
   "nbconvert_exporter": "python",
   "pygments_lexer": "ipython3",
   "version": "3.12.3"
  }
 },
 "nbformat": 4,
 "nbformat_minor": 2
}
