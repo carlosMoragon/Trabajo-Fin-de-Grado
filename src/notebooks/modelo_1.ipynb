{
 "cells": [
  {
   "cell_type": "code",
   "execution_count": 2,
   "metadata": {},
   "outputs": [],
   "source": [
    "import h2o\n",
    "import pandas as pd\n",
    "import zipfile\n",
    "import seaborn as sns\n",
    "import matplotlib.pyplot as plt"
   ]
  },
  {
   "cell_type": "code",
   "execution_count": 3,
   "metadata": {},
   "outputs": [],
   "source": [
    "def cargar_dataset(ruta_zip, nombre_tsv):\n",
    "    with zipfile.ZipFile(ruta_zip, 'r') as archivo_zip:\n",
    "        with archivo_zip.open(nombre_tsv) as archivo_tsv:\n",
    "            dataset = pd.read_csv(archivo_tsv, sep='\\t')\n",
    "    return dataset\n",
    "\n",
    "def preprocesar_dataset(dataset):\n",
    "    dataset['name'] = dataset['name'].astype('str')\n",
    "    dataset['comment'] = dataset['comment'].astype('str')\n",
    "    return dataset"
   ]
  },
  {
   "cell_type": "code",
   "execution_count": 4,
   "metadata": {},
   "outputs": [
    {
     "name": "stderr",
     "output_type": "stream",
     "text": [
      "C:\\Users\\cmora\\AppData\\Local\\Temp\\ipykernel_36156\\590027052.py:4: DtypeWarning: Columns (1,13) have mixed types. Specify dtype option on import or set low_memory=False.\n",
      "  dataset = pd.read_csv(archivo_tsv, sep='\\t')\n"
     ]
    }
   ],
   "source": [
    "df = cargar_dataset('../../data/RepoRT_classified_CCinformation.zip', 'RepoRT_classified_CCinformation.tsv')\n",
    "df = preprocesar_dataset(df)"
   ]
  },
  {
   "cell_type": "code",
   "execution_count": 5,
   "metadata": {},
   "outputs": [],
   "source": [
    "# Creamos la columna n_experimento: representa en el experimento donde se realizó la toma de datos.\n",
    "df['n_experimento'] = df['id'].str.split('_').str[0]\n",
    "\n",
    "df['n_experimento'] = df['n_experimento'].astype(int)"
   ]
  },
  {
   "cell_type": "markdown",
   "metadata": {},
   "source": [
    "Voy a dejar las columnas usp_columns en one-hot"
   ]
  },
  {
   "cell_type": "code",
   "execution_count": 6,
   "metadata": {},
   "outputs": [
    {
     "data": {
      "text/html": [
       "<div>\n",
       "<style scoped>\n",
       "    .dataframe tbody tr th:only-of-type {\n",
       "        vertical-align: middle;\n",
       "    }\n",
       "\n",
       "    .dataframe tbody tr th {\n",
       "        vertical-align: top;\n",
       "    }\n",
       "\n",
       "    .dataframe thead th {\n",
       "        text-align: right;\n",
       "    }\n",
       "</style>\n",
       "<table border=\"1\" class=\"dataframe\">\n",
       "  <thead>\n",
       "    <tr style=\"text-align: right;\">\n",
       "      <th></th>\n",
       "      <th>column.usp.code_0</th>\n",
       "      <th>column.usp.code_L1</th>\n",
       "      <th>column.usp.code_L10</th>\n",
       "      <th>column.usp.code_L109</th>\n",
       "      <th>column.usp.code_L11</th>\n",
       "      <th>column.usp.code_L114</th>\n",
       "      <th>column.usp.code_L122</th>\n",
       "      <th>column.usp.code_L3</th>\n",
       "      <th>column.usp.code_L43</th>\n",
       "      <th>column.usp.code_L68</th>\n",
       "      <th>column.usp.code_L7</th>\n",
       "    </tr>\n",
       "  </thead>\n",
       "  <tbody>\n",
       "    <tr>\n",
       "      <th>0</th>\n",
       "      <td>0.0</td>\n",
       "      <td>1.0</td>\n",
       "      <td>0.0</td>\n",
       "      <td>0.0</td>\n",
       "      <td>0.0</td>\n",
       "      <td>0.0</td>\n",
       "      <td>0.0</td>\n",
       "      <td>0.0</td>\n",
       "      <td>0.0</td>\n",
       "      <td>0.0</td>\n",
       "      <td>0.0</td>\n",
       "    </tr>\n",
       "    <tr>\n",
       "      <th>1</th>\n",
       "      <td>0.0</td>\n",
       "      <td>1.0</td>\n",
       "      <td>0.0</td>\n",
       "      <td>0.0</td>\n",
       "      <td>0.0</td>\n",
       "      <td>0.0</td>\n",
       "      <td>0.0</td>\n",
       "      <td>0.0</td>\n",
       "      <td>0.0</td>\n",
       "      <td>0.0</td>\n",
       "      <td>0.0</td>\n",
       "    </tr>\n",
       "    <tr>\n",
       "      <th>2</th>\n",
       "      <td>0.0</td>\n",
       "      <td>1.0</td>\n",
       "      <td>0.0</td>\n",
       "      <td>0.0</td>\n",
       "      <td>0.0</td>\n",
       "      <td>0.0</td>\n",
       "      <td>0.0</td>\n",
       "      <td>0.0</td>\n",
       "      <td>0.0</td>\n",
       "      <td>0.0</td>\n",
       "      <td>0.0</td>\n",
       "    </tr>\n",
       "    <tr>\n",
       "      <th>3</th>\n",
       "      <td>0.0</td>\n",
       "      <td>1.0</td>\n",
       "      <td>0.0</td>\n",
       "      <td>0.0</td>\n",
       "      <td>0.0</td>\n",
       "      <td>0.0</td>\n",
       "      <td>0.0</td>\n",
       "      <td>0.0</td>\n",
       "      <td>0.0</td>\n",
       "      <td>0.0</td>\n",
       "      <td>0.0</td>\n",
       "    </tr>\n",
       "    <tr>\n",
       "      <th>4</th>\n",
       "      <td>0.0</td>\n",
       "      <td>1.0</td>\n",
       "      <td>0.0</td>\n",
       "      <td>0.0</td>\n",
       "      <td>0.0</td>\n",
       "      <td>0.0</td>\n",
       "      <td>0.0</td>\n",
       "      <td>0.0</td>\n",
       "      <td>0.0</td>\n",
       "      <td>0.0</td>\n",
       "      <td>0.0</td>\n",
       "    </tr>\n",
       "    <tr>\n",
       "      <th>...</th>\n",
       "      <td>...</td>\n",
       "      <td>...</td>\n",
       "      <td>...</td>\n",
       "      <td>...</td>\n",
       "      <td>...</td>\n",
       "      <td>...</td>\n",
       "      <td>...</td>\n",
       "      <td>...</td>\n",
       "      <td>...</td>\n",
       "      <td>...</td>\n",
       "      <td>...</td>\n",
       "    </tr>\n",
       "    <tr>\n",
       "      <th>164341</th>\n",
       "      <td>0.0</td>\n",
       "      <td>1.0</td>\n",
       "      <td>0.0</td>\n",
       "      <td>0.0</td>\n",
       "      <td>0.0</td>\n",
       "      <td>0.0</td>\n",
       "      <td>0.0</td>\n",
       "      <td>0.0</td>\n",
       "      <td>0.0</td>\n",
       "      <td>0.0</td>\n",
       "      <td>0.0</td>\n",
       "    </tr>\n",
       "    <tr>\n",
       "      <th>164342</th>\n",
       "      <td>0.0</td>\n",
       "      <td>1.0</td>\n",
       "      <td>0.0</td>\n",
       "      <td>0.0</td>\n",
       "      <td>0.0</td>\n",
       "      <td>0.0</td>\n",
       "      <td>0.0</td>\n",
       "      <td>0.0</td>\n",
       "      <td>0.0</td>\n",
       "      <td>0.0</td>\n",
       "      <td>0.0</td>\n",
       "    </tr>\n",
       "    <tr>\n",
       "      <th>164343</th>\n",
       "      <td>0.0</td>\n",
       "      <td>1.0</td>\n",
       "      <td>0.0</td>\n",
       "      <td>0.0</td>\n",
       "      <td>0.0</td>\n",
       "      <td>0.0</td>\n",
       "      <td>0.0</td>\n",
       "      <td>0.0</td>\n",
       "      <td>0.0</td>\n",
       "      <td>0.0</td>\n",
       "      <td>0.0</td>\n",
       "    </tr>\n",
       "    <tr>\n",
       "      <th>164344</th>\n",
       "      <td>0.0</td>\n",
       "      <td>1.0</td>\n",
       "      <td>0.0</td>\n",
       "      <td>0.0</td>\n",
       "      <td>0.0</td>\n",
       "      <td>0.0</td>\n",
       "      <td>0.0</td>\n",
       "      <td>0.0</td>\n",
       "      <td>0.0</td>\n",
       "      <td>0.0</td>\n",
       "      <td>0.0</td>\n",
       "    </tr>\n",
       "    <tr>\n",
       "      <th>164345</th>\n",
       "      <td>0.0</td>\n",
       "      <td>1.0</td>\n",
       "      <td>0.0</td>\n",
       "      <td>0.0</td>\n",
       "      <td>0.0</td>\n",
       "      <td>0.0</td>\n",
       "      <td>0.0</td>\n",
       "      <td>0.0</td>\n",
       "      <td>0.0</td>\n",
       "      <td>0.0</td>\n",
       "      <td>0.0</td>\n",
       "    </tr>\n",
       "  </tbody>\n",
       "</table>\n",
       "<p>164346 rows × 11 columns</p>\n",
       "</div>"
      ],
      "text/plain": [
       "        column.usp.code_0  column.usp.code_L1  column.usp.code_L10  \\\n",
       "0                     0.0                 1.0                  0.0   \n",
       "1                     0.0                 1.0                  0.0   \n",
       "2                     0.0                 1.0                  0.0   \n",
       "3                     0.0                 1.0                  0.0   \n",
       "4                     0.0                 1.0                  0.0   \n",
       "...                   ...                 ...                  ...   \n",
       "164341                0.0                 1.0                  0.0   \n",
       "164342                0.0                 1.0                  0.0   \n",
       "164343                0.0                 1.0                  0.0   \n",
       "164344                0.0                 1.0                  0.0   \n",
       "164345                0.0                 1.0                  0.0   \n",
       "\n",
       "        column.usp.code_L109  column.usp.code_L11  column.usp.code_L114  \\\n",
       "0                        0.0                  0.0                   0.0   \n",
       "1                        0.0                  0.0                   0.0   \n",
       "2                        0.0                  0.0                   0.0   \n",
       "3                        0.0                  0.0                   0.0   \n",
       "4                        0.0                  0.0                   0.0   \n",
       "...                      ...                  ...                   ...   \n",
       "164341                   0.0                  0.0                   0.0   \n",
       "164342                   0.0                  0.0                   0.0   \n",
       "164343                   0.0                  0.0                   0.0   \n",
       "164344                   0.0                  0.0                   0.0   \n",
       "164345                   0.0                  0.0                   0.0   \n",
       "\n",
       "        column.usp.code_L122  column.usp.code_L3  column.usp.code_L43  \\\n",
       "0                        0.0                 0.0                  0.0   \n",
       "1                        0.0                 0.0                  0.0   \n",
       "2                        0.0                 0.0                  0.0   \n",
       "3                        0.0                 0.0                  0.0   \n",
       "4                        0.0                 0.0                  0.0   \n",
       "...                      ...                 ...                  ...   \n",
       "164341                   0.0                 0.0                  0.0   \n",
       "164342                   0.0                 0.0                  0.0   \n",
       "164343                   0.0                 0.0                  0.0   \n",
       "164344                   0.0                 0.0                  0.0   \n",
       "164345                   0.0                 0.0                  0.0   \n",
       "\n",
       "        column.usp.code_L68  column.usp.code_L7  \n",
       "0                       0.0                 0.0  \n",
       "1                       0.0                 0.0  \n",
       "2                       0.0                 0.0  \n",
       "3                       0.0                 0.0  \n",
       "4                       0.0                 0.0  \n",
       "...                     ...                 ...  \n",
       "164341                  0.0                 0.0  \n",
       "164342                  0.0                 0.0  \n",
       "164343                  0.0                 0.0  \n",
       "164344                  0.0                 0.0  \n",
       "164345                  0.0                 0.0  \n",
       "\n",
       "[164346 rows x 11 columns]"
      ]
     },
     "execution_count": 6,
     "metadata": {},
     "output_type": "execute_result"
    }
   ],
   "source": [
    "usp_columns = [\n",
    "    'column.usp.code_0', 'column.usp.code_L1', 'column.usp.code_L10',\n",
    "    'column.usp.code_L109', 'column.usp.code_L11', 'column.usp.code_L114',\n",
    "    'column.usp.code_L122', 'column.usp.code_L3', 'column.usp.code_L43',\n",
    "    'column.usp.code_L68', 'column.usp.code_L7'\n",
    "]\n",
    "\n",
    "df[usp_columns]"
   ]
  },
  {
   "cell_type": "markdown",
   "metadata": {},
   "source": [
    "Eliminamos las columnas que tienen que ver con el gradiente"
   ]
  },
  {
   "cell_type": "code",
   "execution_count": 7,
   "metadata": {},
   "outputs": [
    {
     "name": "stdout",
     "output_type": "stream",
     "text": [
      "Columnas 'eluent.1' a eliminar: Index(['eluent.1.h2o 1', 'eluent.1.meoh 1', 'eluent.1.acn 1',\n",
      "       'eluent.1.iproh 1', 'eluent.1.acetone 1', 'eluent.1.hex 1',\n",
      "       'eluent.1.chcl3 1', 'eluent.1.ch2cl2 1', 'eluent.1.hept 1',\n",
      "       'eluent.1.formic 1',\n",
      "       ...\n",
      "       'eluent.1.nh4bicarb 17', 'eluent.1.nh4f 17', 'eluent.1.nh4oh 17',\n",
      "       'eluent.1.trieth 17', 'eluent.1.triprop 17', 'eluent.1.tribut 17',\n",
      "       'eluent.1.nndimethylhex 17', 'eluent.1.medronic 17', 'eluent.1.pH 17',\n",
      "       'eluent.1 17'],\n",
      "      dtype='object', length=442)\n",
      "Columnas 'eluent.2' a eliminar: Index(['eluent.1.h2o 1', 'eluent.1.meoh 1', 'eluent.1.acn 1',\n",
      "       'eluent.1.iproh 1', 'eluent.1.acetone 1', 'eluent.1.hex 1',\n",
      "       'eluent.1.chcl3 1', 'eluent.1.ch2cl2 1', 'eluent.1.hept 1',\n",
      "       'eluent.1.formic 1',\n",
      "       ...\n",
      "       'eluent.2.nh4bicarb 17', 'eluent.2.nh4f 17', 'eluent.2.nh4oh 17',\n",
      "       'eluent.2.trieth 17', 'eluent.2.triprop 17', 'eluent.2.tribut 17',\n",
      "       'eluent.2.nndimethylhex 17', 'eluent.2.medronic 17', 'eluent.2.pH 17',\n",
      "       'eluent.2 17'],\n",
      "      dtype='object', length=884)\n",
      "Columnas 'flowrate' o 't' a eliminar: Index(['eluent.1.h2o 1', 'eluent.1.meoh 1', 'eluent.1.acn 1',\n",
      "       'eluent.1.iproh 1', 'eluent.1.acetone 1', 'eluent.1.hex 1',\n",
      "       'eluent.1.chcl3 1', 'eluent.1.ch2cl2 1', 'eluent.1.hept 1',\n",
      "       'eluent.1.formic 1',\n",
      "       ...\n",
      "       't 13', 'flow_rate 13', 't 14', 'flow_rate 14', 't 15', 'flow_rate 15',\n",
      "       't 16', 'flow_rate 16', 't 17', 'flow_rate 17'],\n",
      "      dtype='object', length=918)\n",
      "Columnas 'eluent.1.pH 0' y 'eluent.2.pH 0' a eliminar: Index(['eluent.1.pH 0', 'eluent.2.pH 0'], dtype='object')\n",
      "Nuevo DataFrame sin las columnas a eliminar.\n"
     ]
    }
   ],
   "source": [
    "# Paso 1: Seleccionar las columnas que coincidan con el patrón 'eluent.1.*\\s[1-9]\\d*'\n",
    "columnas_a_eliminar = df.filter(regex=r'eluent\\.1.*\\s[1-9]\\d*').columns\n",
    "print(\"Columnas 'eluent.1' a eliminar:\", columnas_a_eliminar)\n",
    "\n",
    "# Paso 2: Seleccionar las columnas que coincidan con el patrón 'eluent.2.*\\s[1-9]\\d*'\n",
    "columnas_a_eliminar = columnas_a_eliminar.append(df.filter(regex=r'eluent\\.2.*\\s[1-9]\\d*').columns)\n",
    "print(\"Columnas 'eluent.2' a eliminar:\", columnas_a_eliminar)\n",
    "\n",
    "# Paso 3: Seleccionar las columnas que coincidan con los patrones 'flowrate' o 't' seguidas de un número distinto de 0\n",
    "columnas_a_eliminar = columnas_a_eliminar.append(df.filter(regex=r'^(flow_rate|t)\\s[1-9]\\d*$').columns)\n",
    "print(\"Columnas 'flowrate' o 't' a eliminar:\", columnas_a_eliminar)\n",
    "\n",
    "# Paso 4: Seleccionar las columnas 'eluent.1.pH 0' y 'eluent.2.pH 0'\n",
    "columnas_pH = df.filter(regex=r'eluent\\.[12]\\.pH\\s0').columns\n",
    "columnas_a_eliminar = columnas_a_eliminar.append(columnas_pH)\n",
    "print(\"Columnas 'eluent.1.pH 0' y 'eluent.2.pH 0' a eliminar:\", columnas_pH)\n",
    "\n",
    "# Paso 5: Verificar que las columnas a eliminar no sean vacías\n",
    "if not columnas_a_eliminar.empty:\n",
    "    # Crear un nuevo DataFrame sin esas columnas\n",
    "    df = df.drop(columns=columnas_a_eliminar)\n",
    "    print(\"Nuevo DataFrame sin las columnas a eliminar.\")\n",
    "else:\n",
    "    print(\"No hay columnas que eliminar según los patrones especificados.\")"
   ]
  },
  {
   "cell_type": "markdown",
   "metadata": {},
   "source": [
    "Creamos 2 columnas: eluyente1 y eluyente2"
   ]
  },
  {
   "cell_type": "code",
   "execution_count": 8,
   "metadata": {},
   "outputs": [],
   "source": [
    "# Función para crear las columnas 'eluyente1' y 'eluyente2'\n",
    "def agregar_eluyentes(df):\n",
    "    def obtener_eluyente(row, eluyente_col_prefix):\n",
    "        # Extraer los nombres de los compuestos que tienen valor mayor que 0\n",
    "        compuestos = []\n",
    "        for col in df.columns:\n",
    "            # Verificar que la columna empieza con eluent.1 o eluent.2 y que el valor es mayor que 0\n",
    "            if col.startswith(eluyente_col_prefix) and row[col] > 0:\n",
    "                # Intentar extraer el nombre del compuesto desde la columna\n",
    "                try:\n",
    "                    compuesto = col.split('.')[2]  # Tercera parte es el nombre del compuesto\n",
    "                    compuesto = compuesto.split(\" \")[0]  # Quedarse solo con la primera parte antes del \" 0\"\n",
    "                    compuestos.append(compuesto)\n",
    "                except IndexError:\n",
    "                    # Si ocurre un error (por ejemplo, si el formato no es el esperado), saltar esta columna\n",
    "                    pass\n",
    "        return ', '.join(compuestos)\n",
    "    \n",
    "    # Crear las nuevas columnas 'eluyente1' y 'eluyente2'\n",
    "    df['eluyente1'] = df.apply(lambda row: obtener_eluyente(row, 'eluent.1'), axis=1)\n",
    "    df['eluyente2'] = df.apply(lambda row: obtener_eluyente(row, 'eluent.2'), axis=1)\n",
    "    \n",
    "    return df"
   ]
  },
  {
   "cell_type": "code",
   "execution_count": 9,
   "metadata": {},
   "outputs": [],
   "source": [
    "df = agregar_eluyentes(df)"
   ]
  },
  {
   "cell_type": "code",
   "execution_count": 10,
   "metadata": {},
   "outputs": [],
   "source": [
    "with open(\"../../tmp/nombres_columnas.txt\", \"w\") as f:\n",
    "    f.write(str(df.columns.to_list()))\n"
   ]
  },
  {
   "cell_type": "markdown",
   "metadata": {},
   "source": [
    "Más columnas a eliminar"
   ]
  },
  {
   "cell_type": "code",
   "execution_count": 11,
   "metadata": {},
   "outputs": [],
   "source": [
    "columnas_a_eliminar = [\n",
    "    \"comment\", \"classyfire.level6\", \"classyfire.level5\", \"classyfire.subclass\", \"classyfire.superclass\", \"classyfire.kingdom\",\n",
    "    \"column.usp.code_0\",\"column.usp.code_L1\", \"column.usp.code_L10\", \"column.usp.code_L109\", \"column.usp.code_L11\", \"column.usp.code_L114\", \"column.usp.code_L122\", \"column.usp.code_L3\", \"column.usp.code_L43\", \"column.usp.code_L68\", \"column.usp.code_L7\",\n",
    "    \"missing_values\",\n",
    "    \"t 0\", \"flow_rate 0\",\n",
    "    \"eluent.1.h2o 0\", \"eluent.1.meoh 0\", \"eluent.1.acn 0\", \"eluent.1.iproh 0\", \"eluent.1.acetone 0\", \"eluent.1.hex 0\", \"eluent.1.chcl3 0\", \"eluent.1.ch2cl2 0\", \"eluent.1.hept 0\", \"eluent.1.formic 0\", \"eluent.1.acetic 0\", \"eluent.1.trifluoroacetic 0\", \"eluent.1.phosphor 0\", \"eluent.1.nh4ac 0\", \"eluent.1.nh4form 0\", \"eluent.1.nh4carb 0\", \"eluent.1.nh4bicarb 0\", \"eluent.1.nh4f 0\", \"eluent.1.nh4oh 0\", \"eluent.1.trieth 0\", \"eluent.1.triprop 0\", \"eluent.1.tribut 0\", \"eluent.1.nndimethylhex 0\", \"eluent.1.medronic 0\", \"eluent.2.h2o 0\", \"eluent.2.meoh 0\", \"eluent.2.acn 0\", \"eluent.2.iproh 0\", \"eluent.2.acetone 0\", \"eluent.2.hex 0\", \"eluent.2.chcl3 0\", \"eluent.2.ch2cl2 0\", \"eluent.2.hept 0\", \"eluent.2.formic 0\", \"eluent.2.acetic 0\", \"eluent.2.trifluoroacetic 0\", \"eluent.2.phosphor 0\", \"eluent.2.nh4ac 0\", \"eluent.2.nh4form 0\", \"eluent.2.nh4carb 0\", \"eluent.2.nh4bicarb 0\", \"eluent.2.nh4f 0\", \"eluent.2.nh4oh 0\", \"eluent.2.trieth 0\", \"eluent.2.triprop 0\", \"eluent.2.tribut 0\", \"eluent.2.nndimethylhex 0\", \"eluent.2.medronic 0\", \"eluent.1 0\", \"eluent.2 0\",\n",
    "    \"name\", \"id\", \"inchikey.std\", \"inchi.std\", \"formula\"\n",
    "]\n",
    "\n",
    "df = df.drop(columns=columnas_a_eliminar)"
   ]
  },
  {
   "cell_type": "markdown",
   "metadata": {},
   "source": [
    "A continuación se va a eliminar smiles.std, pero si se quiere contar con la estructura de los metabolitos en un futuro podemos utilizar la siguiente celda"
   ]
  },
  {
   "cell_type": "code",
   "execution_count": null,
   "metadata": {},
   "outputs": [],
   "source": [
    "from rdkit import Chem\n",
    "from rdkit.Chem import Descriptors, rdMolDescriptors\n",
    "# Convertir la columna SMILES en moléculas RDKit\n",
    "df = df[df[\"smiles.std\"].notnull()]\n",
    "df[\"Mol\"] = df[\"smiles.std\"].apply(lambda x: Chem.MolFromSmiles(x) if pd.notnull(x) else None)\n",
    "\n",
    "#df[\"Mol\"] = df[\"smiles.std\"].apply(lambda x: Chem.MolFromSmarts(x) if x else None) #<- OTRA FORMA DE HACERLO"
   ]
  },
  {
   "cell_type": "code",
   "execution_count": 12,
   "metadata": {},
   "outputs": [],
   "source": [
    "df = df.drop(columns=['smiles.std'])"
   ]
  },
  {
   "cell_type": "markdown",
   "metadata": {},
   "source": [
    "Fusionamos las columnas classyfire.class y alternative_parents"
   ]
  },
  {
   "cell_type": "code",
   "execution_count": 13,
   "metadata": {},
   "outputs": [
    {
     "name": "stdout",
     "output_type": "stream",
     "text": [
      "                                    classyfire.class  \\\n",
      "0                     Flavonoids (CHEMONTID:0000334)   \n",
      "1                     Flavonoids (CHEMONTID:0000334)   \n",
      "2                     Flavonoids (CHEMONTID:0000334)   \n",
      "3  Benzene and substituted derivatives (CHEMONTID...   \n",
      "4  Benzene and substituted derivatives (CHEMONTID...   \n",
      "\n",
      "                                 alternative_parents  \\\n",
      "0  Organic compounds, Organoheterocyclic compound...   \n",
      "1  Organic compounds, Organoheterocyclic compound...   \n",
      "2  Organic compounds, Organoheterocyclic compound...   \n",
      "3  Organic compounds, Phenols, Resorcinols, Benzo...   \n",
      "4  Organic compounds, Phenols, Benzoic acids and ...   \n",
      "\n",
      "                                familias_metabolitos  \n",
      "0  [Phenols, Chemical entities, Organoheterocycli...  \n",
      "1  [Phenols, Chemical entities, Organoheterocycli...  \n",
      "2  [Phenols, Chemical entities, Organoheterocycli...  \n",
      "3  [Phenols, Chemical entities, Benzene and subst...  \n",
      "4  [Phenols, Benzene and substituted derivatives ...  \n"
     ]
    }
   ],
   "source": [
    "# Asegurar que las columnas son strings y no NaN\n",
    "df[\"classyfire.class\"] = df[\"classyfire.class\"].fillna(\"\").astype(str)\n",
    "df[\"alternative_parents\"] = df[\"alternative_parents\"].fillna(\"\").astype(str)\n",
    "\n",
    "# Dividir las categorías en listas (asumiendo que están separadas por comas)\n",
    "df[\"familias_metabolitos\"] = df[\"classyfire.class\"].str.split(\", \") + df[\"alternative_parents\"].str.split(\", \")\n",
    "\n",
    "# Eliminar duplicados dentro de cada lista\n",
    "df[\"familias_metabolitos\"] = df[\"familias_metabolitos\"].apply(lambda x: list(set(x)))\n",
    "\n",
    "# Ver resultados\n",
    "print(df[[\"classyfire.class\", \"alternative_parents\", \"familias_metabolitos\"]].head())"
   ]
  },
  {
   "cell_type": "markdown",
   "metadata": {},
   "source": [
    "Borramos las columnas classyfire.class y alternative_parents"
   ]
  },
  {
   "cell_type": "code",
   "execution_count": 14,
   "metadata": {},
   "outputs": [],
   "source": [
    "df = df.drop(columns=[\"classyfire.class\", \"alternative_parents\"])"
   ]
  },
  {
   "cell_type": "markdown",
   "metadata": {},
   "source": [
    "Codificamos la columna de familias"
   ]
  },
  {
   "cell_type": "code",
   "execution_count": 15,
   "metadata": {},
   "outputs": [],
   "source": [
    "\n",
    "import numpy as np"
   ]
  },
  {
   "cell_type": "code",
   "execution_count": 16,
   "metadata": {},
   "outputs": [
    {
     "name": "stdout",
     "output_type": "stream",
     "text": [
      "       rt                 column.name  column.length  column.id  \\\n",
      "0  12.070  Waters ACQUITY UPLC HSS T3          150.0        2.1   \n",
      "1  15.990  Waters ACQUITY UPLC HSS T3          150.0        2.1   \n",
      "2   8.675  Waters ACQUITY UPLC HSS T3          150.0        2.1   \n",
      "3   7.750  Waters ACQUITY UPLC HSS T3          150.0        2.1   \n",
      "4  10.600  Waters ACQUITY UPLC HSS T3          150.0        2.1   \n",
      "\n",
      "   column.particle.size  column.temperature  column.flowrate  column.t0  \\\n",
      "0                   1.8                40.0             0.28    1.18125   \n",
      "1                   1.8                40.0             0.28    1.18125   \n",
      "2                   1.8                40.0             0.28    1.18125   \n",
      "3                   1.8                40.0             0.28    1.18125   \n",
      "4                   1.8                40.0             0.28    1.18125   \n",
      "\n",
      "   n_experimento    eluyente1  ... familia_emb_0 familia_emb_1  familia_emb_2  \\\n",
      "0              1  h2o, formic  ...     -0.647996     -2.695779       1.419418   \n",
      "1              1  h2o, formic  ...     -0.567826     -1.802440       1.215056   \n",
      "2              1  h2o, formic  ...     -0.628725     -2.530596       1.370922   \n",
      "3              1  h2o, formic  ...     -0.374929     -0.047181      -0.295255   \n",
      "4              1  h2o, formic  ...     -0.543714      0.612574      -0.619780   \n",
      "\n",
      "   familia_emb_3  familia_emb_4  familia_emb_5  familia_emb_6  familia_emb_7  \\\n",
      "0      -1.445870       1.080919      -0.211950      -1.375944       1.194037   \n",
      "1      -1.373500       1.880680       0.172135      -0.950619       0.685870   \n",
      "2      -1.372432       1.118769      -0.220596      -1.219484       1.058748   \n",
      "3      -2.144774       0.638583       0.764616      -1.002855      -0.531964   \n",
      "4      -1.803038       0.506572       0.617928      -1.062890      -1.154700   \n",
      "\n",
      "   familia_emb_8  familia_emb_9  \n",
      "0       3.697573       0.743065  \n",
      "1       2.874168       1.372153  \n",
      "2       3.521248       0.299534  \n",
      "3       2.780288       3.343088  \n",
      "4       2.624867       2.907542  \n",
      "\n",
      "[5 rows x 22 columns]\n"
     ]
    }
   ],
   "source": [
    "\n",
    "from gensim.models import Word2Vec\n",
    "\n",
    "\n",
    "# Entrenar un modelo Word2Vec con las familias de metabolitos\n",
    "model = Word2Vec(sentences=df[\"familias_metabolitos\"], vector_size=10, window=5, min_count=1, workers=4)\n",
    "\n",
    "# Función para convertir una lista de familias en un vector promedio\n",
    "def vectorizar_familias(familias):\n",
    "    vectors = [model.wv[f] for f in familias if f in model.wv]\n",
    "    return np.mean(vectors, axis=0) if vectors else np.zeros(10)  # 10 es el tamaño del embedding\n",
    "\n",
    "# Aplicar la vectorización a la columna\n",
    "df[\"familias_vector\"] = df[\"familias_metabolitos\"].apply(vectorizar_familias)\n",
    "\n",
    "# Convertir la lista de vectores en columnas separadas\n",
    "familia_embeddings = pd.DataFrame(df[\"familias_vector\"].to_list(), columns=[f\"familia_emb_{i}\" for i in range(10)])\n",
    "\n",
    "# Concatenar con el DataFrame original\n",
    "df = pd.concat([df, familia_embeddings], axis=1).drop(columns=[\"familias_vector\"])\n",
    "\n",
    "print(df.head())\n"
   ]
  },
  {
   "cell_type": "code",
   "execution_count": 22,
   "metadata": {},
   "outputs": [
    {
     "data": {
      "text/plain": [
       "Index(['rt', 'column.name', 'column.length', 'column.id',\n",
       "       'column.particle.size', 'column.temperature', 'column.flowrate',\n",
       "       'column.t0', 'n_experimento', 'eluyente1', 'eluyente2',\n",
       "       'familias_metabolitos', 'familia_emb_0', 'familia_emb_1',\n",
       "       'familia_emb_2', 'familia_emb_3', 'familia_emb_4', 'familia_emb_5',\n",
       "       'familia_emb_6', 'familia_emb_7', 'familia_emb_8', 'familia_emb_9'],\n",
       "      dtype='object')"
      ]
     },
     "execution_count": 22,
     "metadata": {},
     "output_type": "execute_result"
    }
   ],
   "source": [
    "df.columns"
   ]
  },
  {
   "cell_type": "code",
   "execution_count": 23,
   "metadata": {},
   "outputs": [],
   "source": [
    "df = df.drop(columns=[\"familias_metabolitos\"])\n"
   ]
  },
  {
   "cell_type": "code",
   "execution_count": 18,
   "metadata": {},
   "outputs": [],
   "source": [
    "def guardar_como_excel(df, nombre_archivo=\"../../tmp/excel_1.xlsx\", hoja='Sheet1'):\n",
    "    try:\n",
    "        df.to_excel(nombre_archivo, sheet_name=hoja, index=False)\n",
    "        print(f\"Archivo guardado exitosamente como '{nombre_archivo}'\")\n",
    "    except Exception as e:\n",
    "        print(f\"Error al guardar el archivo: {e}\")"
   ]
  },
  {
   "cell_type": "code",
   "execution_count": 25,
   "metadata": {},
   "outputs": [
    {
     "name": "stdout",
     "output_type": "stream",
     "text": [
      "Archivo guardado exitosamente como '../../tmp/excel_4.xlsx'\n"
     ]
    }
   ],
   "source": [
    "guardar_como_excel(df,\"../../tmp/excel_4.xlsx\")"
   ]
  }
 ],
 "metadata": {
  "kernelspec": {
   "display_name": "Python 3",
   "language": "python",
   "name": "python3"
  },
  "language_info": {
   "codemirror_mode": {
    "name": "ipython",
    "version": 3
   },
   "file_extension": ".py",
   "mimetype": "text/x-python",
   "name": "python",
   "nbconvert_exporter": "python",
   "pygments_lexer": "ipython3",
   "version": "3.12.3"
  }
 },
 "nbformat": 4,
 "nbformat_minor": 2
}
