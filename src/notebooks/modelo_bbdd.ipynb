{
 "cells": [
  {
   "cell_type": "code",
   "execution_count": 10,
   "metadata": {},
   "outputs": [],
   "source": [
    "import zipfile\n",
    "import pandas as pd\n",
    "import matplotlib.pyplot as plt\n",
    "import seaborn as sns\n",
    "import openpyxl\n",
    "import re\n",
    "import csv"
   ]
  },
  {
   "cell_type": "code",
   "execution_count": 11,
   "metadata": {},
   "outputs": [
    {
     "name": "stderr",
     "output_type": "stream",
     "text": [
      "C:\\Users\\cmora\\AppData\\Local\\Temp\\ipykernel_17060\\584855374.py:7: DtypeWarning: Columns (1,13) have mixed types. Specify dtype option on import or set low_memory=False.\n",
      "  dataset = pd.read_csv(archivo_tsv, sep='\\t')\n"
     ]
    }
   ],
   "source": [
    "# Cargamos el dataset, el cual está comprimido en un .zip\n",
    "ruta_zip = '../data/RepoRT_classified_CCinformation.zip'\n",
    "nombre_tsv = 'RepoRT_classified_CCinformation.tsv'\n",
    "\n",
    "with zipfile.ZipFile(ruta_zip, 'r') as archivo_zip:\n",
    "    with archivo_zip.open(nombre_tsv) as archivo_tsv:\n",
    "        dataset = pd.read_csv(archivo_tsv, sep='\\t')"
   ]
  },
  {
   "cell_type": "code",
   "execution_count": 12,
   "metadata": {},
   "outputs": [],
   "source": [
    "# Ponemos todos los datos de las columnas del mismo tipo\n",
    "dataset['name'] = dataset['name'].astype('str')\n",
    "dataset['comment'] = dataset['comment'].astype('str')"
   ]
  },
  {
   "cell_type": "code",
   "execution_count": 13,
   "metadata": {},
   "outputs": [],
   "source": [
    "class Column:\n",
    "    def __init__(self, name, usp_code, length, id, particle_size, temperature, flowrate, t0):\n",
    "        self.name = name\n",
    "        self.usp_code = usp_code\n",
    "        self.length = length\n",
    "        self.id = id\n",
    "        self.particle_size = particle_size\n",
    "        self.temperature = temperature\n",
    "        self.flowrate = flowrate\n",
    "        self.t0 = t0\n",
    "    \n",
    "    def __eq__(self, value):\n",
    "        if not isinstance(value, Column):\n",
    "            return False\n",
    "        return (\n",
    "            self.name == value.name and\n",
    "            self.usp_code == value.usp_code and\n",
    "            self.length == value.length and\n",
    "            self.id == value.id and\n",
    "            self.particle_size == value.particle_size and\n",
    "            self.temperature == value.temperature and\n",
    "            self.flowrate == value.flowrate and\n",
    "            self.t0 == value.t0\n",
    "        )\n",
    "    \n",
    "    def __hash__(self):\n",
    "        return hash((\n",
    "            self.name,\n",
    "            self.usp_code,\n",
    "            self.length,\n",
    "            self.id,\n",
    "            self.particle_size,\n",
    "            self.temperature,\n",
    "            self.flowrate,\n",
    "            self.t0\n",
    "        ))\n",
    "    \n",
    "    def __repr__(self):\n",
    "        return f\"Config(eluyente1={self.eluyente1}, eluyente2={self.eluyente2}, columna={repr(self.columna)})\"\n",
    "    def __str__(self):\n",
    "        return f\"Config(eluyente1={self.eluyente1}, eluyente2={self.eluyente2}, columna={repr(self.columna)})\""
   ]
  },
  {
   "cell_type": "code",
   "execution_count": 14,
   "metadata": {},
   "outputs": [],
   "source": [
    "class Config:\n",
    "    def __init__(self, eluyente1, eluyente2, columna:Column):\n",
    "        self.eluyente1 = eluyente1\n",
    "        self.eluyente2 = eluyente2\n",
    "        self.columna = columna\n",
    "\n",
    "    def __eq__(self, value):\n",
    "        if not isinstance(value, Config):\n",
    "            return False\n",
    "        return (\n",
    "            self.eluyente1 == value.eluyente1 and\n",
    "            self.eluyente2 == value.eluyente2 and\n",
    "            self.columna == value.columna\n",
    "        )\n",
    "    \n",
    "    def __hash__(self):\n",
    "        return hash((self.eluyente1, self.eluyente2, self.columna))\n",
    "    \n",
    "    def __repr__(self):\n",
    "        return (f\"Config(eluyente1={self.eluyente1}, eluyente2={self.eluyente2}, \"\n",
    "                    f\"columna=Column(name={self.columna.name}, usp_code={self.columna.usp_code}, \"\n",
    "                    f\"length={self.columna.length}, id={self.columna.id}, \"\n",
    "                    f\"particle_size={self.columna.particle_size}, temperature={self.columna.temperature}, \"\n",
    "                    f\"flowrate={self.columna.flowrate}, t0={self.columna.t0}))\")\n",
    "    \n",
    "    def __str__(self):\n",
    "            # Accediendo a los atributos de la columna desde el objeto columna\n",
    "            return (f\"Config(eluyente1={self.eluyente1}, eluyente2={self.eluyente2}, \"\n",
    "                    f\"columna=Column(name={self.columna.name}, usp_code={self.columna.usp_code}, \"\n",
    "                    f\"length={self.columna.length}, id={self.columna.id}, \"\n",
    "                    f\"particle_size={self.columna.particle_size}, temperature={self.columna.temperature}, \"\n",
    "                    f\"flowrate={self.columna.flowrate}, t0={self.columna.t0}))\")"
   ]
  },
  {
   "cell_type": "code",
   "execution_count": 15,
   "metadata": {},
   "outputs": [],
   "source": [
    "eluent_columns = [\n",
    "    f\"eluent.{i}.{compound} 0\"\n",
    "    for i in [1, 2]  # Para eluent.1 y eluent.2\n",
    "    for compound in [\n",
    "        \"h2o\", \"meoh\", \"acn\", \"iproh\", \"acetone\", \"hex\", \"chcl3\", \"ch2cl2\", \"hept\",\n",
    "        \"formic\", \"acetic\", \"trifluoroacetic\", \"phosphor\", \"nh4ac\", \"nh4form\",\n",
    "        \"nh4carb\", \"nh4bicarb\", \"nh4f\", \"nh4oh\", \"trieth\", \"triprop\", \"tribut\",\n",
    "        \"nndimethylhex\", \"medronic\", \"pH\"\n",
    "    ]\n",
    "]\n",
    "\n",
    "# Lista original de columnas\n",
    "columns_to_extract = [\n",
    "    \"id\",\n",
    "    \"column.name\", \"column.usp.code_0\", \"column.usp.code_L1\", \"column.usp.code_L10\",\n",
    "    \"column.usp.code_L109\", \"column.usp.code_L11\", \"column.usp.code_L114\", \"column.usp.code_L122\",\n",
    "    \"column.usp.code_L3\", \"classyfire.class\", \"rt\", \"alternative_parents\",\n",
    "    \"column.usp.code_L43\", \"column.usp.code_L68\", \"column.usp.code_L7\", \"column.length\",\n",
    "    \"column.id\", \"column.particle.size\", \"column.temperature\", \"column.flowrate\", \"column.t0\"\n",
    "]\n",
    "\n",
    "# Generar nombres de columnas para \"t 0\", ..., \"t 17\"\n",
    "t_columns = [f\"t {i}\" for i in range(18)]\n",
    "\n",
    "# Combinar todas las listas\n",
    "columns_to_extract += eluent_columns + t_columns\n",
    "\n",
    "data = dataset[columns_to_extract]\n",
    "# print(data.columns)"
   ]
  },
  {
   "cell_type": "code",
   "execution_count": 16,
   "metadata": {},
   "outputs": [],
   "source": [
    "def fscore_peor_caso(lista:list):\n",
    "    if not lista:\n",
    "        return 0\n",
    "    return min(lista)\n",
    "\n",
    "def fscore_caso_medio(lista:list):\n",
    "    if not lista:\n",
    "        return 0\n",
    "    return sum(lista)/len(lista)\n",
    "\n",
    "def fscore_mejor_caso(lista:list):\n",
    "    if not lista:\n",
    "        return 0\n",
    "    return max(lista)"
   ]
  },
  {
   "cell_type": "code",
   "execution_count": null,
   "metadata": {},
   "outputs": [],
   "source": [
    "def alpha(rta, rtb, t0a, t0b):\n",
    "    if rtb == t0b:\n",
    "        return float('inf')\n",
    "    else:\n",
    "        return (rta - t0a) / (rtb - t0b)\n",
    "\n",
    "# def t0(length, flowrate):\n",
    "#     return length/flowrate\n",
    "\n",
    "def diff(rta, rtb, total):\n",
    "    return (rtb - rta) / total"
   ]
  },
  {
   "cell_type": "code",
   "execution_count": 18,
   "metadata": {},
   "outputs": [],
   "source": [
    "# Obtiene los tipos de experimentos que hay, y añade una columan experiment para posteriormente agrupar.\n",
    "def get_types_of_experiments(data):\n",
    "    # data['experiment'] = data['id'].apply(lambda x: x.split('_')[0])\n",
    "    data.loc[:, 'experiment'] = data['id'].apply(lambda x: x.split('_')[0])\n",
    "    return data['experiment'].unique()"
   ]
  },
  {
   "cell_type": "code",
   "execution_count": 19,
   "metadata": {},
   "outputs": [],
   "source": [
    "def get_family_name(family):\n",
    "    match = re.search(r'\\((.*?)\\)', family)\n",
    "    if match:\n",
    "        family_name = family.split('(')[0].strip()\n",
    "        return family_name\n",
    "    return family"
   ]
  },
  {
   "cell_type": "code",
   "execution_count": 20,
   "metadata": {},
   "outputs": [],
   "source": [
    "# Obtiene un conjunto de posibles padres (familia) del compuesto, uniendo el nombre de la columna class con alternative_parents.\n",
    "def get_posible_families(experiment_data):\n",
    "    alternative_parents = [set(item.split(\",\")) for item in experiment_data[\"alternative_parents\"]]\n",
    "    class_attr = experiment_data[\"classyfire.class\"]\n",
    "    return [parent_set.union({cls}) for parent_set, cls in zip(alternative_parents, class_attr)]"
   ]
  },
  {
   "cell_type": "code",
   "execution_count": 21,
   "metadata": {},
   "outputs": [],
   "source": [
    "# Retorna una lista de datasets separados por experimento, tras haberlos filtrado por la familia.\n",
    "def filter_by_family(experiment_data, families, family_name, family):\n",
    "    return experiment_data[[family_name in conjunto or family in conjunto for conjunto in families]]"
   ]
  },
  {
   "cell_type": "code",
   "execution_count": 22,
   "metadata": {},
   "outputs": [],
   "source": [
    "# Filtra el dataset según su configuración \n",
    "def filter_by_config(data_family, config):\n",
    "    usp_columns = [\n",
    "        'column.usp.code_0', 'column.usp.code_L1', 'column.usp.code_L10',\n",
    "        'column.usp.code_L109', 'column.usp.code_L11', 'column.usp.code_L114',\n",
    "        'column.usp.code_L122', 'column.usp.code_L3', 'column.usp.code_L43',\n",
    "        'column.usp.code_L68', 'column.usp.code_L7'\n",
    "    ]\n",
    "    # Crear una lista de condiciones para las columnas usp_code\n",
    "    usp_conditions = [\n",
    "        (data_family[usp_col] == 1) if usp_col == config.columna.usp_code else (data_family[usp_col] == 0)\n",
    "        for usp_col in usp_columns\n",
    "    ]\n",
    "\n",
    "    # Combinar todas las condiciones usando '&'\n",
    "    combined_usp_condition = usp_conditions[0]\n",
    "    for condition in usp_conditions[1:]:\n",
    "        combined_usp_condition &= condition\n",
    "\n",
    "    # Crear la condición general\n",
    "    combined_condition = (\n",
    "        (data_family['column.name'] == config.columna.name) &\n",
    "        (data_family['column.length'] == config.columna.length) &\n",
    "        (data_family['column.id'] == config.columna.id) &\n",
    "        (data_family['column.particle.size'] == config.columna.particle_size) &\n",
    "        (data_family['column.temperature'] == config.columna.temperature) &\n",
    "        (data_family['column.flowrate'] == config.columna.flowrate) &\n",
    "        (data_family['column.t0'] == config.columna.t0) &\n",
    "        combined_usp_condition  # Condiciones combinadas de usp_code\n",
    "    )\n",
    "\n",
    "    # Filtrar los datos que cumplen la condición\n",
    "    return data_family[combined_condition]"
   ]
  },
  {
   "cell_type": "code",
   "execution_count": 23,
   "metadata": {},
   "outputs": [],
   "source": [
    "# Devuelve una lista de objetos de configuración\n",
    "def create_config_objects(dataset):\n",
    "    def get_uspcode(row):\n",
    "        usp_columns = [\n",
    "            'column.usp.code_0', 'column.usp.code_L1', 'column.usp.code_L10',\n",
    "            'column.usp.code_L109', 'column.usp.code_L11', 'column.usp.code_L114',\n",
    "            'column.usp.code_L122', 'column.usp.code_L3', 'column.usp.code_L43',\n",
    "            'column.usp.code_L68', 'column.usp.code_L7'\n",
    "        ]\n",
    "        # Busca la primera columna con valor 1 y devuelve su nombre\n",
    "        return next((col for col in usp_columns if row[col] == 1), None)\n",
    "\n",
    "    config_objects = set()\n",
    "\n",
    "    for _, row in dataset.iterrows():\n",
    "        # Crear el objeto Column\n",
    "        columna = Column(\n",
    "            name=row['column.name'],\n",
    "            usp_code=get_uspcode(row),  # Llama a la función para determinar el USP Code\n",
    "            length=row['column.length'],\n",
    "            id=row['column.id'],\n",
    "            particle_size=row['column.particle.size'],\n",
    "            temperature=row['column.temperature'],\n",
    "            flowrate=row['column.flowrate'],\n",
    "            t0=row['column.t0']\n",
    "        )\n",
    "            \n",
    "        # Crear el objeto Config\n",
    "            \n",
    "        eluyente1 = next((key for key in dataset.columns if key.startswith('eluent.1.') and row[key] == 100), None)\n",
    "        eluyente2 = next((key for key in dataset.columns if key.startswith('eluent.2.') and row[key] == 100), None)\n",
    "\n",
    "        config = Config(eluyente1=eluyente1, eluyente2=eluyente2, columna=columna)\n",
    "        config_objects.add(config)\n",
    "\n",
    "    return list(config_objects)"
   ]
  },
  {
   "cell_type": "code",
   "execution_count": 24,
   "metadata": {},
   "outputs": [],
   "source": [
    "# Dada los tipos de experimentos separa\n",
    "def process_experiments(data, experiments, family_name, family):\n",
    "    result_datasets = []\n",
    "    configs = []  # Lista de configuraciones\n",
    "    for exp in experiments:\n",
    "        experiment_data = data[data['experiment'] == exp]\n",
    "        families = get_posible_families(experiment_data)\n",
    "        data_family = filter_by_family(experiment_data, families, family_name, family)\n",
    "            \n",
    "        # Creamos un objeto configuración y lo añadimos a una lista\n",
    "        exp_configs = create_config_objects(data_family)\n",
    "        configs.extend(exp_configs)\n",
    "            \n",
    "        datasets_by_config = [filter_by_config(data_family, config) for config in exp_configs]\n",
    "        result_datasets.extend(datasets_by_config)\n",
    "        \n",
    "    return result_datasets, configs"
   ]
  },
  {
   "cell_type": "code",
   "execution_count": 36,
   "metadata": {},
   "outputs": [],
   "source": [
    "def calculate_alpha_results(dataset):\n",
    "    resultados_dataset = []\n",
    "    primer_elemento = dataset.iloc[0]\n",
    "    #t0_value = t0(primer_elemento['column.length'], primer_elemento['column.flowrate'])\n",
    "        \n",
    "    for i in range(1, len(dataset)):\n",
    "        elemento_n_menos_1 = dataset.iloc[i - 1]\n",
    "        elemento_n = dataset.iloc[i]\n",
    "        resultado = alpha(elemento_n_menos_1['rt'], elemento_n['rt'], elemento_n_menos_1['column.t0'], elemento_n['column.t0'])#t0_value)\n",
    "        resultados_dataset.append(resultado)\n",
    "    return resultados_dataset\n"
   ]
  },
  {
   "cell_type": "code",
   "execution_count": 26,
   "metadata": {},
   "outputs": [],
   "source": [
    "def calculate_diff_results(dataset):\n",
    "    resultados_dataset = []\n",
    "    ultimo_elemento = dataset.iloc[len(dataset)-1]\n",
    "    total = ultimo_elemento['rt']\n",
    "        \n",
    "    for i in range(1, len(dataset)):\n",
    "        elemento_n_menos_1 = dataset.iloc[i - 1]\n",
    "        elemento_n = dataset.iloc[i]\n",
    "        resultado = diff(elemento_n_menos_1['rt'], elemento_n['rt'], total)\n",
    "        resultados_dataset.append(resultado)\n",
    "    return resultados_dataset\n"
   ]
  },
  {
   "cell_type": "code",
   "execution_count": 27,
   "metadata": {},
   "outputs": [],
   "source": [
    "def calculate_results(result_datasets, is_alpha):\n",
    "    resultados = []\n",
    "    for dataset in result_datasets:\n",
    "        if dataset.empty:\n",
    "            continue\n",
    "        if(is_alpha):\n",
    "            resultados.append(calculate_alpha_results(dataset))\n",
    "        else:\n",
    "            resultados.append(calculate_diff_results(dataset))\n",
    "    return resultados"
   ]
  },
  {
   "cell_type": "code",
   "execution_count": 28,
   "metadata": {},
   "outputs": [],
   "source": [
    "def build_results_list(configs, resultados, fscore):\n",
    "    lista_tuplas = []\n",
    "    for i in range(min(len(configs), len(resultados))):\n",
    "        # Aplicamos la función fscore a los resultados de cada configuración\n",
    "        score = fscore(resultados[i])\n",
    "        lista_tuplas.append((configs[i].__str__(), score.__str__()))  # Emparejamos config con su puntaje\n",
    "    return lista_tuplas"
   ]
  },
  {
   "cell_type": "code",
   "execution_count": 41,
   "metadata": {},
   "outputs": [],
   "source": [
    "def main_with_alpha(data, family, fscore):    \n",
    "    # Obtener los tipos de experimentos y el nombre de la familia\n",
    "    types_of_experiments = get_types_of_experiments(data)\n",
    "    family_name = get_family_name(family)\n",
    "\n",
    "    # Procesar experimentos y obtener datasets y configuraciones\n",
    "    result_datasets, configs = process_experiments(data, types_of_experiments, family_name, family)\n",
    "\n",
    "    #save_excel(result_datasets, \"../data/result_datasets.xlsx\")\n",
    "\n",
    "    # Ordenar datasets por RT\n",
    "    for dataset in result_datasets:\n",
    "        dataset.sort_values(by=\"rt\", inplace=True)\n",
    "\n",
    "    # Calcular resultados de alpha\n",
    "    resultados = calculate_results(result_datasets, is_alpha=True)\n",
    "\n",
    "    # Construir la lista de resultados finales\n",
    "    lista_tuplas = build_results_list(configs, resultados, fscore)\n",
    "\n",
    "    return lista_tuplas"
   ]
  },
  {
   "cell_type": "code",
   "execution_count": 30,
   "metadata": {},
   "outputs": [],
   "source": [
    "def main_with_diff(data, family, fscore):\n",
    "    # Obtener los tipos de experimentos y el nombre de la familia\n",
    "    types_of_experiments = get_types_of_experiments(data)\n",
    "    family_name = get_family_name(family)\n",
    "\n",
    "    # Procesar experimentos y obtener datasets y configuraciones\n",
    "    result_datasets, configs = process_experiments(data, types_of_experiments, family_name, family)\n",
    "\n",
    "    #save_excel(result_datasets, \"../data/result_datasets.xlsx\")\n",
    "\n",
    "    # Ordenar datasets por RT\n",
    "    for dataset in result_datasets:\n",
    "        dataset.sort_values(by=\"rt\", inplace=True)\n",
    "\n",
    "    # Calcular resultados de alpha\n",
    "    resultados = calculate_results(result_datasets, is_alpha=False)\n",
    "\n",
    "    # Construir la lista de resultados finales\n",
    "    lista_tuplas = build_results_list(configs, resultados, fscore)\n",
    "\n",
    "    return lista_tuplas"
   ]
  },
  {
   "cell_type": "code",
   "execution_count": 42,
   "metadata": {},
   "outputs": [],
   "source": [
    "peor_resultado_alpha = main_with_alpha(data, \"Organooxygen compounds (CHEMONTID:0000323)\", fscore=fscore_peor_caso)\n",
    "medio_resultado_alpha = main_with_alpha(data, \"Organooxygen compounds (CHEMONTID:0000323)\", fscore=fscore_caso_medio)\n",
    "mejor_resultado_alpha = main_with_alpha(data, \"Organooxygen compounds (CHEMONTID:0000323)\", fscore=fscore_mejor_caso)"
   ]
  },
  {
   "cell_type": "code",
   "execution_count": 32,
   "metadata": {},
   "outputs": [],
   "source": [
    "peor_resultado_diff = main_with_diff(data, \"Organooxygen compounds (CHEMONTID:0000323)\", fscore=fscore_peor_caso)\n",
    "medio_resultado_diff = main_with_diff(data, \"Organooxygen compounds (CHEMONTID:0000323)\", fscore=fscore_caso_medio)\n",
    "mejor_resultado_diff = main_with_diff(data, \"Organooxygen compounds (CHEMONTID:0000323)\", fscore=fscore_mejor_caso)"
   ]
  },
  {
   "cell_type": "code",
   "execution_count": 43,
   "metadata": {},
   "outputs": [
    {
     "name": "stdout",
     "output_type": "stream",
     "text": [
      "['0.02134778826206251', '0.27219796215429404', '0.9347753371915736', '0.12392256605906461', '0.10525977674654972', '0.859777500023406', '0.7963512940178193', '-1.1062460730357622', '0.45329763287167124', '0.7065688562854285', '0.7171809630599754', '0', '0.6781979082864038', '-0.1111111111111111', '0.2356020942408377', '0.8332514493465658', '0.020042442820089598', '0.07231555880204531', '0', '-0.028928336620644236', '0.7353901996370236', '0.6961409905803706', '0.6491895232293295', '0', '0.058834693490225846', '0.029426534096615463', '-0.02980233700037708', '0.5660639777468708', '0.23002891502059197', '0.5745784695201038', '-0.07347331258286918', '-0.007610732300013264', '0.9046942800788954', '0.10881186411450251', '0.3649706457925636', '-5.000000000000089', '0', '-1.9412011511625689', '-0.4328832035697412', '0.9037100283691849', '0.5604278549553948', '0.7639077340569878', '0.7590711175616837', '0.09460610232207078', '0', '-0.5160493827160494', '0.24623115577889454', '0.01878549584971602', '0.19298245614034978', '0', '0', '0.5700934579439245', '0.7777777777777782', '0.17408906882591083', '0', '0', '0', '0', '0', '0', '0', '0.4003094003094003', '0', '0', '-0.16363636363636344', '0', '-0.21739130434782675', '0.6589147286821703', '0.049870279619486875', '0.3090909090909091', '0.7241379310344825', '0.7241379310344825', '0.5912408759124085', '0.5934959349593495', '0.7094017094017095', '0.6129032258064521', '0.5887850467289717', '0.63963963963964', '0.05882352941176522', '0.8596491228070174', '-2.3333333333333366', '0.5675675675675674', '0.6438356164383562', '1.0', '0.5714285714285711', '0.5483870967741932', '0.831578947368421', '0.5959595959595957', '0.7575757575757575', '0.7028571428571426', '0.7125748502994009', '0.9808612440191389', '1.0', '0.6835443037974681', '1.0', '0.6774193548387094', '0.7037037037037035', '0.7837837837837837', '0.5172413793103452', '0', '0.35355086372360844', '0.9753499427766528', '0.3020403612442859', '0.2755462870613836', '0', '0.3720346078704997', '0.20515054700358218', '0.5876680082010783', '0', '0.31067044381491976', '0.2812419590016297', '0', '0.979221248531936', '0.4110675540158629', '0.38888416035407275', '0.8830017139876295', '0.9146546064629075', '0.81523456281338', '0.32600924230534484', '-2.9999999999999702', '-2.9999999999999702', '-0.14285714285713924', '-0.3333333333333235', '0.1486183719193428', '-0.01010101010100973', '0.06374695863746957', '0.11575083170815638', '-0.9999999999999334', '-0.33333339999999073', '-1.3999998080000102', '-0.3333333333333235', '-1.5000003750000415', '-0.42857139795919014', '0.0', '0.0', '-0.6000000960000127', '-0.2307692165680439', '-2.9999994000000036', '-0.33333339999999073', '-0.9999999999999334', '-2.9999994000000036', '-0.9999999999999334', '-0.9999999999999334', '-0.9999999999999334', '-8.999998200000011', '0.7897635084579547', '0.7897635084579547', '0.5811026645510182', '0.8536374312380245', '-0.6000000000000012', '0.15919629057187018', '0.09656617765597289', '0.05182364490985898', '0.09258910050914579', '0.08314606741573032', '0.10479107416320282', '0.08492808005003126', '0.08922144345519986', '0.08700646955680512', '-9.22222222222218', '-2.7894736842105043', '-33.285714285713745', '-1.709677419354829', '-0.02857142857142531', '-1.9629629629629508', '0.14893617021276936', '-0.09803921568627297', '0.1429218573046432', '0.07736315173579504', '0.1194701986754967', '0.8429056877054202', '0.2107576933023015', '0.060749676863420955', '0.30998957502912855', '0.07585633060601854', '0.39812332439678283', '0.5231582219459122', '0.6422018348623854', '0.8873369839815781', '0.41020804067212296', '0.8958822274375934', '0', '0.4477571730052535', '0', '0.41803208920287704', '0.5820956989334073', '0.6931865039901035', '0.4831832119586047', '0.5616993752760775', '0.5814412281645682', '0.6770074422248336', '0.4373186302959952', '0.5059864471050876', '0.6491629991358694', '0.7331330555286365', '0.8731284475932001', '0.6746753246088295', '0.4745870028204685', '0.6186399455199921', '0.4902328488826379', '0.6198886639676113', '0.43757725587144625', '0.5627675186498715', '0.6111787204450626', '0.7016563520198683', '0.5432077527381157', '-1.709677419354829', '0.09906152241918638', '-2.1111111111110983', '-0.006375674350171605', '-2.1111111111110983', '0.04761904761904732', '0.04547663681177531', '0.04845145354360629', '0.036842426834484014', '0.04792776105579992', '-7.363636363636279', '0.03858615611192925', '-4.599999999999959', '0.06987808504311624', '0.15366049879324203', '1.0', '0.028994708994709', '0.03817142857142853', '0.02236104209554908', '0.053176983910553546', '0.03853395255428642', '0.05046390586105451', '0.06195745808760189', '0.03910863509749304', '0.10878986554061562', '-0.6945812807881779', '0.03966751327637959', '0.04046725073007925', '0.29653401797175855', '0.04286596664607782', '0.9516616314199395', '1.0', '-4.066666666666629', '0.0377404431458485', '-1.709677419354829', '0.04319717895974135', '-4.81818181818176', '0.05174488567990369', '0.08468818247998057', '-0.019011406844106064', '0.06036607751612733', '-0.004739336492890477', '0.04584567640005642', '0.04817820756346052', '0.27168154987134857', '0.04730038022813688', '0.18662952646239553', '0.7079839172889144', '0.7292458614347027', '0.6855157669695351', '0.7143028990737401', '0.6536072623029145', '0.7283817337795532', '0.7192379632836855', '0.6139198218262807', '0.7390361244750967', '0.5590243902439024', '0.5320452517065875', '0.552816817955585', '0.5572252915899324', '0.5681154355044061', '0.6049767452841325', '0.5739199652652145', '0.8275118004045853', '0.8372390285470813', '0.8325912733748887', '0.1678391959798995', '0.16197866149369541', '0.6348310139165011', '0.29099774051611366', '0.4869222500895737', '0.19834535426389474', '0.0775874688918167', '0.1029263370332997', '0.8743384448364772', '0.8513193366555021']\n",
      "['0.3602036746952945', '0.9318563942832425', '0.9347753371915736', '0.7068515609570444', '0.5985304189113684', '0.9279154833001522', '0.9426760703005311', '0.9593924101985958', '0.9335060382678263', '0.9131409300521597', '0.8982644198264883', '0', '0.6781979082864038', '2.209930253261273', '0.8591429485221264', '0.8840195925978112', '0.020042442820089598', '0.07231555880204531', '0', '-0.028928336620644236', '0.7353901996370236', '0.8349757768266324', '0.6491895232293295', '0', '0.4618254243273617', '0.029426534096615463', '2.020146184228456', '0.8609332560534366', '0.96343664542917', '0.9161998553123271', '0.7437356103347585', '2.6968981481609293', '0.9265339369348868', '0.5826832629289306', '0.6954835343284125', '-0.2895855150534709', '0', '0.43294662710294557', '0.7796803182582169', '0.954277257398232', '0.8881807646093374', '0.8660955886911286', '0.8528568021901604', '0.7172573480564935', '0', '-0.5160493827160494', '0.4674062353288937', '0.3419829494596535', '0.5964912280701749', '0', '0', '0.8086978193146416', '0.7777777777777782', '0.5870445344129555', '0', '0', '0', '0', '0', '0', '0', '0.7544210223374379', '0', '0', '1.3098718512228684', '0', '0.4049700480461103', '0.7402882819197889', '0.5520019836146588', '0.7955266955266955', '0.7241379310344825', '0.8199637023593465', '0.7462377219068215', '0.7967479674796747', '0.7342189269900112', '0.8507657217334637', '0.8839219253990571', '0.81981981981982', '0.3885666942833472', '0.8596491228070174', '0.2963585434173666', '0.740297200321817', '0.761676844363756', '1.0331491712707184', '0.8571428571428571', '0.8576850094876662', '0.9157894736842105', '0.919191919191919', '0.8906134515890614', '0.877551824868898', '0.9184823630050823', '0.9904306220095694', '1.0', '0.8407492647998975', '1.0', '0.8387096774193548', '0.8518518518518517', '0.8918918918918919', '0.7586206896551726', '0', '0.5986543856547275', '0.9753499427766528', '0.5532535647821573', '0.5471947783959379', '0', '0.6132770225138332', '0.6590238102191678', '0.7699291068269896', '0', '0.31067044381491976', '0.2812419590016297', '0', '0.979221248531936', '0.817620868741557', '0.7246781809587519', '0.9396428323665279', '0.9510820668963075', '0.81523456281338', '0.780988545227317', '0.9197177137773981', '0.9207658375766539', '1.063622462722781', '1.0701573381187575', '0.9154593219147189', '0.905165908513482', '0.9611530238836814', '0.9962848230742387', '0.9635683678489739', '0.9875529243968919', '0.9202520414248859', '0.9855451116128429', '0.9551273488939754', '0.9780632449696969', 'inf', 'inf', '0.9928861936598394', '0.9984924578315197', '0.9001236345844014', '1.031686453635136', '0.9661332156612529', '0.912977780531625', '0.9617803846861953', '0.9743791825610709', '0.9821500996598669', '0.804222755877282', '0.952792843004821', '0.952792843004821', '0.7707812097351878', '0.8817706305844248', '0.6252828666037155', '0.5052843849831903', '0.9038427073828383', '0.931574890220446', '0.9062380460124559', '0.936828235193572', '0.8979324000917074', '0.9230514865812718', '0.9050503753100155', '0.9271316776082011', '0.5344413287417914', '0.8160382246092474', '-0.48304257147577034', '0.845575058563498', '2.043555929872326', '0.8070461396066613', '0.7117207133802096', '1.0327186847052057', '0.9095843917471671', '0.9330355990966295', '0.8847351958071513', '0.8429056877054202', '0.9157962209263001', '0.922998920586649', '0.9083686393277165', '0.8966930299416157', '0.9423630159716505', '0.8065406731953936', '0.9739432870148179', '0.982442435915718', '0.848065479437278', '0.8958822274375934', '0', '0.4477571730052535', '0', '0.41803208920287704', '0.5820956989334073', '0.6931865039901035', '0.4831832119586047', '0.5616993752760775', '0.5814412281645682', '0.6770074422248336', '0.4373186302959952', '0.5059864471050876', '0.6491629991358694', '0.7331330555286365', '0.8731284475932001', '0.6746753246088295', '0.4745870028204685', '0.6186399455199921', '0.4902328488826379', '0.6198886639676113', '0.43757725587144625', '0.5627675186498715', '0.6111787204450626', '0.7016563520198683', '0.5432077527381157', '0.8576073461050641', '0.8049246179158265', '0.83477126556784', '0.755302578959133', '0.7686069583469772', '0.774348753840862', '0.7191720593097213', '0.7703968269819931', '0.88374948700784', '0.7291997592114922', '0.5848613413535234', '0.7370829100295317', '0.7292295390154919', '0.7838622238597734', '0.15366049879324203', '1.0', '0.9242596142901687', '0.8082634338977371', '0.8935888139445054', '0.7999152700820488', '0.8883419298958383', '0.7449130000669764', '0.8159009538305841', '0.7828070703411532', '0.9066490237734337', '0.685081354532782', '0.877779179194168', '0.7947281831569821', '0.9347870012524572', '0.7970132978714445', '0.9516616314199395', '1.0', '0.7008014189581194', '0.7495541608561207', '0.8487495645140647', '0.753578086742401', '0.7517811872368758', '0.7907636284929113', '0.8100851929236254', '4.070621339910198', '0.8411048773366306', '0.7135781111239613', '0.8312607106910509', '0.7695464139720349', '0.8913139266973382', '0.7403072987252481', '0.18662952646239553', '0.8547269169059977', '0.8619481457253653', '0.8453785924270372', '0.8546266525684614', '0.8227733001480736', '0.8652621942371395', '0.8613026455240215', '0.8481141619554289', '0.8558818907595', '0.6276491137892144', '0.7253485160285286', '0.6933929720596418', '0.7314772822446796', '0.7330151461770064', '0.7609224098328783', '0.742219001309414', '0.9257909131341069', '0.9316286505573345', '0.9265328920106084', '0.9704820911935995', '0.9661032535306876', '0.7156869239531166', '0.5775849356009893', '0.6404926839104884', '0.6042094749635725', '0.5915819585763445', '0.6092312289445461', '0.9950394763147443', '0.9910541181132823']\n",
      "['0.6990595611285265', '1.0', '0.9347753371915736', '1.0', '0.9658219457057811', '0.9960534665768982', '0.9918649583079112', '2.2840647051796124', '0.9992598961382119', '1.0', '0.9977657324587476', '0', '0.6781979082864038', '9.0', '0.9993149511902724', '0.9347877358490565', '0.020042442820089598', '0.07231555880204531', '0', '-0.028928336620644236', '0.7353901996370236', '0.973810563072894', '0.6491895232293295', '0', '0.8161290322580641', '0.029426534096615463', '13.47408793050626', '0.9918891517404528', '1.0', '0.9925971622455274', '1.0967575101136047', '133.39340086869922', '0.9483735937908782', '0.9705439330543932', '0.9627933600457929', '0.9667036625971145', '0', '1.250484676814218', '1.2515458093495517', '1.0', '0.9802821083890125', '0.9946018893387313', '0.9828815977175462', '0.9778654207929456', '0', '-0.5160493827160494', '0.6885813148788928', '0.6583261432269198', '1.0', '0', '0', '1.0', '0.7777777777777782', '1.0', '0', '0', '0', '0', '0', '0', '0', '0.9621421247732472', '0', '0', '4.555555555555564', '0', '0.8518518518518516', '0.8851674641148324', '1.0', '1.0', '0.7241379310344825', '0.9157894736842105', '0.9012345679012345', '1.0', '0.759036144578313', '1.0', '1.0', '1.0', '0.7183098591549293', '0.8596491228070174', '1.285714285714288', '0.9569892473118279', '0.879518072289156', '1.0994475138121549', '1.0', '1.0', '1.0', '1.0', '1.0', '1.0', '1.0', '1.0', '1.0', '1.0', '1.0', '1.0', '1.0', '1.0', '1.0', '0', '0.8229470005824111', '0.9753499427766528', '0.8044667683200287', '0.8188432697304923', '0', '0.8545194371571667', '0.9101242400211472', '0.9521902054529009', '0', '0.31067044381491976', '0.2812419590016297', '0', '0.979221248531936', '0.9968476633304436', '0.9399951996159692', '1.0', '1.0', '0.81523456281338', '0.9604212311824157', '1.4705882352941182', '1.888888888888891', '5.000000000000089', '5.000000000000089', '1.0', '1.0', '1.0', '1.0', '2.9999994000002035', '2.9999994000002035', '1.5714287183673783', '3.285714530612285', '2.6666665000000234', '2.6666665000000234', 'inf', 'inf', '3.6666664000000964', '3.6666664000000964', '1.666666599999987', '6.999998800000407', '2.9999994000002035', '2.3333333999999906', '2.9999994000002035', '2.9999994000002035', '2.9999994000002035', '1.2926829282569903', '1.0', '1.0', '1.0', '0.9099038299308252', '1.0', '0.952925123656831', '1.0', '1.0', '1.0', '1.0', '1.0', '1.0', '1.0', '1.0', '1.0', '1.3018867924528308', '1.0', '1.0754716981132078', '29.00000000000311', '1.1509433962264155', '1.0', '4.058823529411785', '1.0', '1.0', '1.0', '0.8429056877054202', '1.0', '1.0', '1.0', '1.0', '0.9997103408322874', '0.9606349206349207', '1.0', '1.0', '0.9911683894121717', '0.8958822274375934', '0', '0.4477571730052535', '0', '0.41803208920287704', '0.5820956989334073', '0.6931865039901035', '0.4831832119586047', '0.5616993752760775', '0.5814412281645682', '0.6770074422248336', '0.4373186302959952', '0.5059864471050876', '0.6491629991358694', '0.7331330555286365', '0.8731284475932001', '0.6746753246088295', '0.4745870028204685', '0.6186399455199921', '0.4902328488826379', '0.6198886639676113', '0.43757725587144625', '0.5627675186498715', '0.6111787204450626', '0.7016563520198683', '0.5432077527381157', '1.0754716981132078', '1.0', '1.2807017543859656', '1.0', '1.1311475409836067', '1.0', '1.0', '1.0', '1.0', '1.0', '1.0', '1.0', '1.0', '1.0', '0.15366049879324203', '1.0', '1.0', '1.0', '1.0', '1.0', '1.0', '1.0', '1.0', '1.0', '1.0', '1.0', '1.0', '1.0', '1.0', '1.0', '0.9516616314199395', '1.0', '1.0', '1.0', '1.0', '1.0', '1.0', '1.0', '1.0', '44.20000000000096', '1.0', '1.0', '1.0', '1.0', '1.0', '1.0', '0.18662952646239553', '0.9908366168789517', '0.9901448704050457', '0.9901862103673881', '0.9110741537859518', '0.940318637781337', '0.9912380618592833', '0.990354451576891', '0.958012905506939', '0.9857797825143209', '0.6962738373345263', '0.8259518259518259', '0.8339691261636986', '0.8332702778280394', '0.840180452125454', '0.8465602312561261', '0.8399416496140365', '1.0', '1.0', '1.0', '1.0', '1.0', '0.8912154031287606', '0.8759952566491613', '0.8558148358945172', '0.8806343906510852', '0.8891719745222931', '0.8919999999999999', '1.0', '1.0']\n"
     ]
    }
   ],
   "source": [
    "peor_segundos_terminos_alpha = [tupla[1] for tupla in peor_resultado_alpha]\n",
    "medio_segundos_terminos_alpha = [tupla[1] for tupla in medio_resultado_alpha]\n",
    "mejor_segundos_terminos_alpha = [tupla[1] for tupla in mejor_resultado_alpha]\n",
    "print(peor_segundos_terminos_alpha)\n",
    "print(medio_segundos_terminos_alpha)\n",
    "print(mejor_segundos_terminos_alpha)"
   ]
  },
  {
   "cell_type": "code",
   "execution_count": 34,
   "metadata": {},
   "outputs": [
    {
     "name": "stdout",
     "output_type": "stream",
     "text": [
      "['0.006042296072507558', '0.0', '0.06250000000000006', '0.0', '0.002503661594395906', '0.0013612122990968062', '0.006060606060606039', '0.0', '0.00011725163746807784', '0.0', '0.0014825796886583655', '0', '0.23752969121140144', '0.0024937655860348875', '0.0003814973772054897', '0.05131298134916961', '0.9471285323609845', '0.7016574585635359', '0', '0.7634146341463415', '0.2156804733727811', '0.015706806282722457', '0.3340122199592668', '0', '0.004626247869491122', '0.8567375886524823', '0.004277563670196437', '0.00573613766730402', '0.0', '0.0038216560509554457', '0.0026539278131634783', '0.0', '0.03978494623655917', '0.02369077306733168', '0.0061117578579744135', '0.0025929127052722388', '0', '0.0035639286871958402', '0.0018150286917499115', '0.0', '0.010721396844846081', '0.002923976608187202', '0.008746355685131267', '0.013926747142497286', '0', '0.7257683215130024', '0.12328767123287664', '0.0071465033180194044', '0.0', '0', '0', '0.0', '0.027777777777777714', '0.0', '0', '0', '0', '0', '0', '0', '0', '0.03658536585365844', '0', '0', '0.026143790849673224', '0', '0.014018691588785059', '0.018461538461538477', '0.0', '0.0', '0.04545454545454549', '0.01492537313432837', '0.013840830449827002', '0.0', '0.03584229390681007', '0.0', '0.0', '0.0', '0.039062500000000035', '0.016064257028112462', '0.0', '0.004338394793926251', '0.019083969465648956', '0.0', '0.0', '0.0', '0.0', '0.0', '0.0', '0.0', '0.0', '0.0', '0.0', '0.0', '0.0', '0.0', '0.0', '0.0', '0.0', '0', '0.1534113847396044', '0.023728813559322128', '0.1880931837791199', '0.1754133716750539', '0', '0.14055299539170507', '0.07494489346069064', '0.02718589272593682', '0', '0.664185277088503', '0.6925619834710743', '0', '0.019982623805386658', '0.003046458492003117', '0.04924491135915955', '0.0', '0.0', '0.1793333333333333', '0.038382453735435265', '0.0', '0.0', '0.0', '0.0', '0.0', '0.0', '0.0', '0.0', '0.0', '0.0', '0.0', '0.0', '0.0', '0.0', '0.0', '0.0', '0.0', '0.0', '0.0', '0.0', '0.0', '0.0', '0.0', '0.0', '0.0', '0.0', '0.0', '0.0', '0.0', '0.08651976668826944', '0.0', '0.01561439239646978', '0.0', '0.0', '0.0', '0.0', '0.0', '0.0', '0.0', '0.0', '0.0', '0.0', '0.0', '0.0', '0.0', '0.0', '0.0', '0.0', '0.0', '0.0', '0.0', '0.1399087120460409', '0.0', '0.0', '0.0', '0.0', '0.00024644705495770257', '0.01912399753238739', '0.0', '0.0', '0.0019866492212269877', '0.09355828220858887', '0', '0.4444725524917784', '0', '0.452094422587364', '0.36782144912226195', '0.2712805885002252', '0.39052204764318305', '0.36134377276037877', '0.33697190216292705', '0.2745920745920745', '0.4241960183767229', '0.399364196304391', '0.30893100458317857', '0.2359928014397121', '0.09365910413212453', '0.17335640143529168', '0.43994601889338736', '0.32758116408306526', '0.4209575429087624', '0.3246596066565809', '0.4744525547445255', '0.3752755326965467', '0.33908198461130273', '0.26281338767444723', '0.3955509210983663', '0.0', '0.0', '0.0', '0.0', '0.0', '0.0', '0.0', '0.0', '0.0', '0.0', '0.0', '0.0', '0.0', '0.0', '0.3051044083526682', '0.0', '0.0', '0.0', '0.0', '0.0', '0.0', '0.0', '0.0', '0.0', '0.0', '0.0', '0.0', '0.0', '0.0', '0.0', '0.006309148264984233', '0.0', '0.0', '0.0', '0.0', '0.0', '0.0', '0.0', '0.0', '0.0', '0.0', '0.0', '0.0', '0.0', '0.0', '0.0', '0.365', '0.006469142191745351', '0.006972528238739466', '0.006905914295832789', '0.06159371188507933', '0.040060060060060056', '0.006332320162107373', '0.0069677419354837915', '0.03715872643354452', '0.010366093688492289', '0.2862943528235881', '0.13433386640423184', '0.1547873516621213', '0.15406092945337224', '0.15063781890945477', '0.13465272123755248', '0.12267080745341612', '0.0', '0.0', '0.0', '0.0', '0.0', '0.09834638816362061', '0.11538461538461539', '0.13305322128851532', '0.11340206185567009', '0.10655235762400482', '0.10364683301343576', '0.0', '0.0']\n",
      "['0.4632426988922458', '0.020324028889322658', '0.06250000000000006', '0.14285714285714285', '0.1800455564053032', '0.024767480139152146', '0.030303030303030304', '0.029986369831894594', '0.025708691527239157', '0.04811594202898551', '0.09216703731158886', '0', '0.23752969121140144', '0.16608478802992516', '0.05343768408651014', '0.10438897652407907', '0.9471285323609845', '0.7016574585635359', '0', '0.7634146341463415', '0.2156804733727811', '0.1387434554973822', '0.3340122199592668', '0', '0.2723804885967048', '0.8567375886524823', '0.08759566269490135', '0.05736137667304014', '0.011757345644388824', '0.04060509554140128', '0.13792841977555353', '0.011885245901639346', '0.06048387096774195', '0.2231920199501247', '0.10073082395550381', '0.1508210890233362', '0', '0.10023066568661614', '0.07345304588379965', '0.034496482308837874', '0.06606886756986312', '0.09005847953216375', '0.09620991253644315', '0.10467257203066764', '0', '0.7257683215130024', '0.16438356164383558', '0.2945380296069423', '0.046184738955823375', '0', '0', '0.037691401648998854', '0.027777777777777714', '0.14825581395348839', '0', '0', '0', '0', '0', '0', '0', '0.21036585365853658', '0', '0', '0.06928104575163399', '0', '0.12558411214953275', '0.05046153846153845', '0.12656192911947386', '0.022817460317460316', '0.04545454545454549', '0.02985074626865674', '0.05536332179930801', '0.044326241134751775', '0.04838709677419355', '0.025925925925925918', '0.02256317689530686', '0.03623188405797097', '0.06640624999999997', '0.016064257028112462', '0.019213973799126656', '0.06693523396343352', '0.03435114503816797', '0.023076923076923096', '0.022857142857142878', '0.02247191011235954', '0.01492537313432837', '0.014814814814814828', '0.021276595744680833', '0.027056277056277056', '0.01973684210526315', '0.005617977528089851', '0.0', '0.022222222222222244', '0.0', '0.02808988764044946', '0.022988505747126457', '0.021739130434782625', '0.039772727272727244', '0', '0.19337908760597497', '0.023728813559322128', '0.36410698878343395', '0.3749101365923796', '0', '0.32949308755760365', '0.27063433749693855', '0.21307861866274797', '0', '0.664185277088503', '0.6925619834710743', '0', '0.019982623805386658', '0.15575019040365576', '0.22368133070693808', '0.05411255411255411', '0.04570082449941106', '0.1793333333333333', '0.1783755997258396', '0.014199475065616798', '0.01452959795272409', '0.016059675296182536', '0.02733393628781027', '0.023475867908552068', '0.020551396487186874', '0.015802348336594926', '0.0010748504960666132', '0.012665602553163135', '0.012854779177803234', '0.013069597070329671', '0.01316748309840928', '0.013050878031446349', '0.013051662831565773', '0.01319689989017465', '0.012990163645772521', '0.013331057762544089', '0.013477088948820229', '0.013655336910299003', '0.013614277077450365', '0.013417971073510416', '0.013635446556151804', '0.013417460727002794', '0.013625149943941399', '0.01344491224335984', '0.013621394503137776', '0.014894241110712773', '0.014894241110712773', '0.16157726908743641', '0.10720457982285589', '0.06695548450158215', '0.17239194387870557', '0.027668563660353716', '0.026891838906626338', '0.02763665189348899', '0.021128011152251318', '0.02937276255519233', '0.026038292263354263', '0.03773199703043801', '0.024448639440121555', '0.030773257944610225', '0.02349624060150376', '0.03544794366472688', '0.02162295867623794', '0.03295995583871932', '0.025286511000796718', '0.060814814814814815', '0.0277469917669411', '0.030165036674816625', '0.023834982907288502', '0.03364424296111025', '0.1399087120460409', '0.029907364280908764', '0.025225328994730324', '0.028227320516671674', '0.03667985492911308', '0.03611569569016379', '0.17520049352251696', '0.011881237540374364', '0.010290259642436916', '0.09656536179621235', '0.09355828220858887', '0', '0.4444725524917784', '0', '0.452094422587364', '0.36782144912226195', '0.2712805885002252', '0.39052204764318305', '0.36134377276037877', '0.33697190216292705', '0.2745920745920745', '0.4241960183767229', '0.399364196304391', '0.30893100458317857', '0.2359928014397121', '0.09365910413212453', '0.17335640143529168', '0.43994601889338736', '0.32758116408306526', '0.4209575429087624', '0.3246596066565809', '0.4744525547445255', '0.3752755326965467', '0.33908198461130273', '0.26281338767444723', '0.3955509210983663', '0.02406947268027006', '0.05674539631705366', '0.0253909398678059', '0.08280330148211698', '0.03967773847566313', '0.05360167099469346', '0.09090032154340837', '0.07614024662011587', '0.031121971822487708', '0.08316432781173012', '0.03076793921967805', '0.07625429032909348', '0.02740098256597539', '0.0509314604502889', '0.3051044083526682', '0.0', '0.02239378202223694', '0.08153522707513318', '0.030386964176531684', '0.06913237454677791', '0.025573938872387084', '0.09962950098413802', '0.06664057496619938', '0.09127536231884059', '0.022715798045602604', '0.07722711350941967', '0.033578591164509015', '0.08309966194082653', '0.007412080113546758', '0.0831466749053835', '0.006309148264984233', '0.0', '0.030720747910189014', '0.08286627059746665', '0.024679841533075363', '0.07591288471570161', '0.023976777280742035', '0.06995377503852081', '0.058006684898207234', '0.07138309635768617', '0.034873949579831934', '0.07661054172767204', '0.045236877982276755', '0.08297130598015555', '0.02330628688152519', '0.07656272873664177', '0.365', '0.10124207530081511', '0.09656951610654023', '0.10694132924093969', '0.09960699281745493', '0.11661261261261262', '0.09593465045592704', '0.09849032258064516', '0.11343190174450443', '0.10093163626820627', '0.28785607196401797', '0.20143929142575964', '0.2512346134001622', '0.19699695973196005', '0.19559779889944973', '0.18041377006743076', '0.1911594202898551', '0.0598159509202454', '0.057659860618657556', '0.05753700787401574', '0.008746275245557884', '0.009676730058915103', '0.1689077458659704', '0.21333543505674651', '0.1950105042016807', '0.21897303727200634', '0.23224127372933254', '0.22850287907869485', '0.0015147356618514856', '0.00277323001925599']\n",
      "['0.920443101711984', '0.1834862385321101', '0.06250000000000006', '0.4920634920634921', '0.816045862551993', '0.04817374797920749', '0.07272727272727268', '0.4835680751173708', '0.3816556047620953', '0.12173913043478264', '0.2616753150481838', '0', '0.23752969121140144', '0.7431421446384039', '0.260276585598474', '0.15746497169898852', '0.9471285323609845', '0.7016574585635359', '0', '0.7634146341463415', '0.2156804733727811', '0.26178010471204194', '0.3340122199592668', '0', '0.4100316532748965', '0.8567375886524823', '0.4683454311794654', '0.17590822179732327', '0.2668881506090809', '0.16433121019108277', '0.40074309978768574', '0.2983606557377049', '0.08118279569892474', '0.8054862842892768', '0.4188009313154831', '0.3759723422644771', '0', '0.1952841124067034', '0.48358398018485366', '0.0690186411955014', '0.18961556134170623', '0.13304093567251465', '0.15889212827988336', '0.4505539391162929', '0', '0.7257683215130024', '0.20547945205479454', '0.5732516590096989', '0.09236947791164675', '0', '0', '0.08127208480565386', '0.027777777777777714', '0.29651162790697677', '0', '0', '0', '0', '0', '0', '0', '0.5022865853658537', '0', '0', '0.11764705882352937', '0', '0.25000000000000006', '0.0861538461538461', '0.8429667519181585', '0.07539682539682538', '0.04545454545454549', '0.044776119402985114', '0.09688581314878901', '0.08865248226950355', '0.06093189964157703', '0.06666666666666655', '0.07942238267148022', '0.07246376811594193', '0.0937499999999999', '0.016064257028112462', '0.0655021834061135', '0.22559652928416496', '0.04961832061068698', '0.06923076923076929', '0.06857142857142863', '0.0786516853932585', '0.02985074626865674', '0.07407407407407414', '0.04255319148936174', '0.08441558441558449', '0.0789473684210527', '0.011235955056179702', '0.0', '0.046296296296296335', '0.0', '0.05617977528089892', '0.045977011494252915', '0.04347826086956525', '0.07954545454545449', '0', '0.24505450141299953', '0.023728813559322128', '0.540120793787748', '0.5744069015097053', '0', '0.5184331797235022', '0.6032329169728141', '0.39897134459955913', '0', '0.664185277088503', '0.6925619834710743', '0', '0.019982623805386658', '0.49200304645849197', '0.47143795141168743', '0.11327561327561331', '0.08268551236749117', '0.1793333333333333', '0.5298149417409185', '0.5023622047244094', '0.2369519832985386', '0.5023255813953489', '0.5155763239875389', '0.14479254868755292', '0.16225165562913915', '0.43926940639269413', '0.2857778436897524', '0.4916201116485129', '0.3375334097365406', '0.470952381', '0.3406744666090614', '0.48975302162321344', '0.3429721816126291', '0.49848208870673955', '0.34497816596486786', '0.49838813655706005', '0.3675143560554753', '0.4939091915282392', '0.3429767795453759', '0.4935501962699692', '0.3372713414505613', '0.486685552378849', '0.33089649870453625', '0.4871355060034305', '0.32625482619020285', '0.08846918489065603', '0.08846918489065603', '0.35309001666125495', '0.12788939295744234', '0.5013336425837875', '0.5435618918307309', '0.2811904412842692', '0.7364140480591497', '0.2966706302021404', '0.3705015849338057', '0.30356873964764336', '0.38226357766805924', '0.41291759465478844', '0.5846368282484126', '0.2651170095806502', '0.6581059390048154', '0.2751112523839797', '0.3817874498204099', '0.3075189180486234', '0.4313599313599314', '0.3601587301587302', '0.3816761663500106', '0.4344437652811736', '0.38101734554667704', '0.44833515710489297', '0.1399087120460409', '0.4465145163794442', '0.3924611973392461', '0.42249924902373087', '0.3926805143422355', '0.29507927380267807', '0.4731647131400371', '0.07191617867228026', '0.057447140752708944', '0.3652167157448258', '0.09355828220858887', '0', '0.4444725524917784', '0', '0.452094422587364', '0.36782144912226195', '0.2712805885002252', '0.39052204764318305', '0.36134377276037877', '0.33697190216292705', '0.2745920745920745', '0.4241960183767229', '0.399364196304391', '0.30893100458317857', '0.2359928014397121', '0.09365910413212453', '0.17335640143529168', '0.43994601889338736', '0.32758116408306526', '0.4209575429087624', '0.3246596066565809', '0.4744525547445255', '0.3752755326965467', '0.33908198461130273', '0.26281338767444723', '0.3955509210983663', '0.5757431250993483', '0.3247397918334668', '0.5584394647751089', '0.3607224210868858', '0.554918972008512', '0.3238963531669866', '0.5525723472668811', '0.25181993760213933', '0.689588801399825', '0.2763886809402605', '0.7835260701967944', '0.30057540884312534', '0.677725968436155', '0.28661087866108786', '0.3051044083526682', '0.0', '0.7795650203896692', '0.41870978960180844', '0.7355265968810084', '0.44874715261959', '0.45186408683341195', '0.4161167071899966', '0.8184551341350601', '0.39449275362318836', '0.47117263843648205', '0.3993183754615166', '0.8715842414082146', '0.42202363793600456', '0.1836461126005362', '0.39620504106485416', '0.006309148264984233', '0.0', '0.4007734581721962', '0.30086313193588154', '0.7802653399668326', '0.31095461658841944', '0.7688273547304384', '0.18043143297380582', '0.6447128532360984', '0.31566719907071294', '0.7527731092436973', '0.3247437774524159', '0.864519427402863', '0.33466076696165187', '0.5460735360871538', '0.32469623773971606', '0.365', '0.19892612239617033', '0.1900013945056477', '0.20953842521544094', '0.1609296652662962', '0.19921921921921915', '0.1842071935157042', '0.18870967741935488', '0.2712195885159978', '0.18593360451384341', '0.2894177911044479', '0.2983146758518883', '0.34768187513820303', '0.27970465967611835', '0.27044772386193094', '0.2619778292728752', '0.27428571428571424', '0.1569325153374233', '0.1517911725149774', '0.1480314960629921', '0.148493543758967', '0.15494978479196558', '0.25848563968668403', '0.3814627994955863', '0.32422969187675077', '0.2996827914353688', '0.3858542559706063', '0.3981445937300064', '0.04876060725150284', '0.0691776386790416']\n"
     ]
    }
   ],
   "source": [
    "peor_segundos_terminos_diff = [tupla[1] for tupla in peor_resultado_diff]\n",
    "medio_segundos_terminos_diff = [tupla[1] for tupla in medio_resultado_diff]\n",
    "mejor_segundos_terminos_diff = [tupla[1] for tupla in mejor_resultado_diff]\n",
    "print(peor_segundos_terminos_diff)\n",
    "print(medio_segundos_terminos_diff)\n",
    "print(mejor_segundos_terminos_diff)"
   ]
  }
 ],
 "metadata": {
  "kernelspec": {
   "display_name": "Python 3",
   "language": "python",
   "name": "python3"
  },
  "language_info": {
   "codemirror_mode": {
    "name": "ipython",
    "version": 3
   },
   "file_extension": ".py",
   "mimetype": "text/x-python",
   "name": "python",
   "nbconvert_exporter": "python",
   "pygments_lexer": "ipython3",
   "version": "3.12.3"
  }
 },
 "nbformat": 4,
 "nbformat_minor": 2
}
